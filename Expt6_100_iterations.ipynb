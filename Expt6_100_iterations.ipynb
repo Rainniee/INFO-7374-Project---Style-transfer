{
  "nbformat": 4,
  "nbformat_minor": 0,
  "metadata": {
    "colab": {
      "name": "Expt6 - 100 iterations.ipynb",
      "version": "0.3.2",
      "provenance": [],
      "collapsed_sections": [],
      "include_colab_link": true
    },
    "kernelspec": {
      "name": "python3",
      "display_name": "Python 3"
    },
    "accelerator": "GPU"
  },
  "cells": [
    {
      "cell_type": "markdown",
      "metadata": {
        "id": "view-in-github",
        "colab_type": "text"
      },
      "source": [
        "<a href=\"https://colab.research.google.com/github/Adhira-Deogade/INFO-7374-Project---Style-transfer/blob/master/Expt6_100_iterations.ipynb\" target=\"_parent\"><img src=\"https://colab.research.google.com/assets/colab-badge.svg\" alt=\"Open In Colab\"/></a>"
      ]
    },
    {
      "metadata": {
        "id": "y31lPR5QUI0Z",
        "colab_type": "code",
        "colab": {
          "base_uri": "https://localhost:8080/",
          "height": 34
        },
        "outputId": "4e8d296d-0eec-45b8-df91-139429a7d334"
      },
      "cell_type": "code",
      "source": [
        "!ls"
      ],
      "execution_count": 1,
      "outputs": [
        {
          "output_type": "stream",
          "text": [
            "sample_data\n"
          ],
          "name": "stdout"
        }
      ]
    },
    {
      "metadata": {
        "id": "WM0BEO31UXh4",
        "colab_type": "code",
        "colab": {
          "base_uri": "https://localhost:8080/",
          "height": 34
        },
        "outputId": "7c56747d-73b6-4644-c88b-2b1db783864e"
      },
      "cell_type": "code",
      "source": [
        "!pwd"
      ],
      "execution_count": 2,
      "outputs": [
        {
          "output_type": "stream",
          "text": [
            "/content\n"
          ],
          "name": "stdout"
        }
      ]
    },
    {
      "metadata": {
        "id": "NjM1XA-hUX7l",
        "colab_type": "code",
        "colab": {}
      },
      "cell_type": "code",
      "source": [
        "!mkdir Optimizer"
      ],
      "execution_count": 0,
      "outputs": []
    },
    {
      "metadata": {
        "id": "0maSsR6QUdUb",
        "colab_type": "code",
        "colab": {
          "base_uri": "https://localhost:8080/",
          "height": 34
        },
        "outputId": "0c212fd6-d2d4-4609-8f0a-1bd5335dee54"
      },
      "cell_type": "code",
      "source": [
        "cd Optimizer/"
      ],
      "execution_count": 4,
      "outputs": [
        {
          "output_type": "stream",
          "text": [
            "/content/Optimizer\n"
          ],
          "name": "stdout"
        }
      ]
    },
    {
      "metadata": {
        "id": "_Amc20dSUeCf",
        "colab_type": "code",
        "colab": {}
      },
      "cell_type": "code",
      "source": [
        "ls"
      ],
      "execution_count": 0,
      "outputs": []
    },
    {
      "metadata": {
        "id": "lBd-WJANUeS4",
        "colab_type": "code",
        "colab": {}
      },
      "cell_type": "code",
      "source": [
        "from google.colab import files\n"
      ],
      "execution_count": 0,
      "outputs": []
    },
    {
      "metadata": {
        "id": "HmyCZqvLUh-D",
        "colab_type": "code",
        "colab": {
          "resources": {
            "http://localhost:8080/nbextensions/google.colab/files.js": {
              "data": "Ly8gQ29weXJpZ2h0IDIwMTcgR29vZ2xlIExMQwovLwovLyBMaWNlbnNlZCB1bmRlciB0aGUgQXBhY2hlIExpY2Vuc2UsIFZlcnNpb24gMi4wICh0aGUgIkxpY2Vuc2UiKTsKLy8geW91IG1heSBub3QgdXNlIHRoaXMgZmlsZSBleGNlcHQgaW4gY29tcGxpYW5jZSB3aXRoIHRoZSBMaWNlbnNlLgovLyBZb3UgbWF5IG9idGFpbiBhIGNvcHkgb2YgdGhlIExpY2Vuc2UgYXQKLy8KLy8gICAgICBodHRwOi8vd3d3LmFwYWNoZS5vcmcvbGljZW5zZXMvTElDRU5TRS0yLjAKLy8KLy8gVW5sZXNzIHJlcXVpcmVkIGJ5IGFwcGxpY2FibGUgbGF3IG9yIGFncmVlZCB0byBpbiB3cml0aW5nLCBzb2Z0d2FyZQovLyBkaXN0cmlidXRlZCB1bmRlciB0aGUgTGljZW5zZSBpcyBkaXN0cmlidXRlZCBvbiBhbiAiQVMgSVMiIEJBU0lTLAovLyBXSVRIT1VUIFdBUlJBTlRJRVMgT1IgQ09ORElUSU9OUyBPRiBBTlkgS0lORCwgZWl0aGVyIGV4cHJlc3Mgb3IgaW1wbGllZC4KLy8gU2VlIHRoZSBMaWNlbnNlIGZvciB0aGUgc3BlY2lmaWMgbGFuZ3VhZ2UgZ292ZXJuaW5nIHBlcm1pc3Npb25zIGFuZAovLyBsaW1pdGF0aW9ucyB1bmRlciB0aGUgTGljZW5zZS4KCi8qKgogKiBAZmlsZW92ZXJ2aWV3IEhlbHBlcnMgZm9yIGdvb2dsZS5jb2xhYiBQeXRob24gbW9kdWxlLgogKi8KKGZ1bmN0aW9uKHNjb3BlKSB7CmZ1bmN0aW9uIHNwYW4odGV4dCwgc3R5bGVBdHRyaWJ1dGVzID0ge30pIHsKICBjb25zdCBlbGVtZW50ID0gZG9jdW1lbnQuY3JlYXRlRWxlbWVudCgnc3BhbicpOwogIGVsZW1lbnQudGV4dENvbnRlbnQgPSB0ZXh0OwogIGZvciAoY29uc3Qga2V5IG9mIE9iamVjdC5rZXlzKHN0eWxlQXR0cmlidXRlcykpIHsKICAgIGVsZW1lbnQuc3R5bGVba2V5XSA9IHN0eWxlQXR0cmlidXRlc1trZXldOwogIH0KICByZXR1cm4gZWxlbWVudDsKfQoKLy8gTWF4IG51bWJlciBvZiBieXRlcyB3aGljaCB3aWxsIGJlIHVwbG9hZGVkIGF0IGEgdGltZS4KY29uc3QgTUFYX1BBWUxPQURfU0laRSA9IDEwMCAqIDEwMjQ7Ci8vIE1heCBhbW91bnQgb2YgdGltZSB0byBibG9jayB3YWl0aW5nIGZvciB0aGUgdXNlci4KY29uc3QgRklMRV9DSEFOR0VfVElNRU9VVF9NUyA9IDMwICogMTAwMDsKCmZ1bmN0aW9uIF91cGxvYWRGaWxlcyhpbnB1dElkLCBvdXRwdXRJZCkgewogIGNvbnN0IHN0ZXBzID0gdXBsb2FkRmlsZXNTdGVwKGlucHV0SWQsIG91dHB1dElkKTsKICBjb25zdCBvdXRwdXRFbGVtZW50ID0gZG9jdW1lbnQuZ2V0RWxlbWVudEJ5SWQob3V0cHV0SWQpOwogIC8vIENhY2hlIHN0ZXBzIG9uIHRoZSBvdXRwdXRFbGVtZW50IHRvIG1ha2UgaXQgYXZhaWxhYmxlIGZvciB0aGUgbmV4dCBjYWxsCiAgLy8gdG8gdXBsb2FkRmlsZXNDb250aW51ZSBmcm9tIFB5dGhvbi4KICBvdXRwdXRFbGVtZW50LnN0ZXBzID0gc3RlcHM7CgogIHJldHVybiBfdXBsb2FkRmlsZXNDb250aW51ZShvdXRwdXRJZCk7Cn0KCi8vIFRoaXMgaXMgcm91Z2hseSBhbiBhc3luYyBnZW5lcmF0b3IgKG5vdCBzdXBwb3J0ZWQgaW4gdGhlIGJyb3dzZXIgeWV0KSwKLy8gd2hlcmUgdGhlcmUgYXJlIG11bHRpcGxlIGFzeW5jaHJvbm91cyBzdGVwcyBhbmQgdGhlIFB5dGhvbiBzaWRlIGlzIGdvaW5nCi8vIHRvIHBvbGwgZm9yIGNvbXBsZXRpb24gb2YgZWFjaCBzdGVwLgovLyBUaGlzIHVzZXMgYSBQcm9taXNlIHRvIGJsb2NrIHRoZSBweXRob24gc2lkZSBvbiBjb21wbGV0aW9uIG9mIGVhY2ggc3RlcCwKLy8gdGhlbiBwYXNzZXMgdGhlIHJlc3VsdCBvZiB0aGUgcHJldmlvdXMgc3RlcCBhcyB0aGUgaW5wdXQgdG8gdGhlIG5leHQgc3RlcC4KZnVuY3Rpb24gX3VwbG9hZEZpbGVzQ29udGludWUob3V0cHV0SWQpIHsKICBjb25zdCBvdXRwdXRFbGVtZW50ID0gZG9jdW1lbnQuZ2V0RWxlbWVudEJ5SWQob3V0cHV0SWQpOwogIGNvbnN0IHN0ZXBzID0gb3V0cHV0RWxlbWVudC5zdGVwczsKCiAgY29uc3QgbmV4dCA9IHN0ZXBzLm5leHQob3V0cHV0RWxlbWVudC5sYXN0UHJvbWlzZVZhbHVlKTsKICByZXR1cm4gUHJvbWlzZS5yZXNvbHZlKG5leHQudmFsdWUucHJvbWlzZSkudGhlbigodmFsdWUpID0+IHsKICAgIC8vIENhY2hlIHRoZSBsYXN0IHByb21pc2UgdmFsdWUgdG8gbWFrZSBpdCBhdmFpbGFibGUgdG8gdGhlIG5leHQKICAgIC8vIHN0ZXAgb2YgdGhlIGdlbmVyYXRvci4KICAgIG91dHB1dEVsZW1lbnQubGFzdFByb21pc2VWYWx1ZSA9IHZhbHVlOwogICAgcmV0dXJuIG5leHQudmFsdWUucmVzcG9uc2U7CiAgfSk7Cn0KCi8qKgogKiBHZW5lcmF0b3IgZnVuY3Rpb24gd2hpY2ggaXMgY2FsbGVkIGJldHdlZW4gZWFjaCBhc3luYyBzdGVwIG9mIHRoZSB1cGxvYWQKICogcHJvY2Vzcy4KICogQHBhcmFtIHtzdHJpbmd9IGlucHV0SWQgRWxlbWVudCBJRCBvZiB0aGUgaW5wdXQgZmlsZSBwaWNrZXIgZWxlbWVudC4KICogQHBhcmFtIHtzdHJpbmd9IG91dHB1dElkIEVsZW1lbnQgSUQgb2YgdGhlIG91dHB1dCBkaXNwbGF5LgogKiBAcmV0dXJuIHshSXRlcmFibGU8IU9iamVjdD59IEl0ZXJhYmxlIG9mIG5leHQgc3RlcHMuCiAqLwpmdW5jdGlvbiogdXBsb2FkRmlsZXNTdGVwKGlucHV0SWQsIG91dHB1dElkKSB7CiAgY29uc3QgaW5wdXRFbGVtZW50ID0gZG9jdW1lbnQuZ2V0RWxlbWVudEJ5SWQoaW5wdXRJZCk7CiAgaW5wdXRFbGVtZW50LmRpc2FibGVkID0gZmFsc2U7CgogIGNvbnN0IG91dHB1dEVsZW1lbnQgPSBkb2N1bWVudC5nZXRFbGVtZW50QnlJZChvdXRwdXRJZCk7CiAgb3V0cHV0RWxlbWVudC5pbm5lckhUTUwgPSAnJzsKCiAgY29uc3QgcGlja2VkUHJvbWlzZSA9IG5ldyBQcm9taXNlKChyZXNvbHZlKSA9PiB7CiAgICBpbnB1dEVsZW1lbnQuYWRkRXZlbnRMaXN0ZW5lcignY2hhbmdlJywgKGUpID0+IHsKICAgICAgcmVzb2x2ZShlLnRhcmdldC5maWxlcyk7CiAgICB9KTsKICB9KTsKCiAgY29uc3QgY2FuY2VsID0gZG9jdW1lbnQuY3JlYXRlRWxlbWVudCgnYnV0dG9uJyk7CiAgaW5wdXRFbGVtZW50LnBhcmVudEVsZW1lbnQuYXBwZW5kQ2hpbGQoY2FuY2VsKTsKICBjYW5jZWwudGV4dENvbnRlbnQgPSAnQ2FuY2VsIHVwbG9hZCc7CiAgY29uc3QgY2FuY2VsUHJvbWlzZSA9IG5ldyBQcm9taXNlKChyZXNvbHZlKSA9PiB7CiAgICBjYW5jZWwub25jbGljayA9ICgpID0+IHsKICAgICAgcmVzb2x2ZShudWxsKTsKICAgIH07CiAgfSk7CgogIC8vIENhbmNlbCB1cGxvYWQgaWYgdXNlciBoYXNuJ3QgcGlja2VkIGFueXRoaW5nIGluIHRpbWVvdXQuCiAgY29uc3QgdGltZW91dFByb21pc2UgPSBuZXcgUHJvbWlzZSgocmVzb2x2ZSkgPT4gewogICAgc2V0VGltZW91dCgoKSA9PiB7CiAgICAgIHJlc29sdmUobnVsbCk7CiAgICB9LCBGSUxFX0NIQU5HRV9USU1FT1VUX01TKTsKICB9KTsKCiAgLy8gV2FpdCBmb3IgdGhlIHVzZXIgdG8gcGljayB0aGUgZmlsZXMuCiAgY29uc3QgZmlsZXMgPSB5aWVsZCB7CiAgICBwcm9taXNlOiBQcm9taXNlLnJhY2UoW3BpY2tlZFByb21pc2UsIHRpbWVvdXRQcm9taXNlLCBjYW5jZWxQcm9taXNlXSksCiAgICByZXNwb25zZTogewogICAgICBhY3Rpb246ICdzdGFydGluZycsCiAgICB9CiAgfTsKCiAgaWYgKCFmaWxlcykgewogICAgcmV0dXJuIHsKICAgICAgcmVzcG9uc2U6IHsKICAgICAgICBhY3Rpb246ICdjb21wbGV0ZScsCiAgICAgIH0KICAgIH07CiAgfQoKICBjYW5jZWwucmVtb3ZlKCk7CgogIC8vIERpc2FibGUgdGhlIGlucHV0IGVsZW1lbnQgc2luY2UgZnVydGhlciBwaWNrcyBhcmUgbm90IGFsbG93ZWQuCiAgaW5wdXRFbGVtZW50LmRpc2FibGVkID0gdHJ1ZTsKCiAgZm9yIChjb25zdCBmaWxlIG9mIGZpbGVzKSB7CiAgICBjb25zdCBsaSA9IGRvY3VtZW50LmNyZWF0ZUVsZW1lbnQoJ2xpJyk7CiAgICBsaS5hcHBlbmQoc3BhbihmaWxlLm5hbWUsIHtmb250V2VpZ2h0OiAnYm9sZCd9KSk7CiAgICBsaS5hcHBlbmQoc3BhbigKICAgICAgICBgKCR7ZmlsZS50eXBlIHx8ICduL2EnfSkgLSAke2ZpbGUuc2l6ZX0gYnl0ZXMsIGAgKwogICAgICAgIGBsYXN0IG1vZGlmaWVkOiAkewogICAgICAgICAgICBmaWxlLmxhc3RNb2RpZmllZERhdGUgPyBmaWxlLmxhc3RNb2RpZmllZERhdGUudG9Mb2NhbGVEYXRlU3RyaW5nKCkgOgogICAgICAgICAgICAgICAgICAgICAgICAgICAgICAgICAgICAnbi9hJ30gLSBgKSk7CiAgICBjb25zdCBwZXJjZW50ID0gc3BhbignMCUgZG9uZScpOwogICAgbGkuYXBwZW5kQ2hpbGQocGVyY2VudCk7CgogICAgb3V0cHV0RWxlbWVudC5hcHBlbmRDaGlsZChsaSk7CgogICAgY29uc3QgZmlsZURhdGFQcm9taXNlID0gbmV3IFByb21pc2UoKHJlc29sdmUpID0+IHsKICAgICAgY29uc3QgcmVhZGVyID0gbmV3IEZpbGVSZWFkZXIoKTsKICAgICAgcmVhZGVyLm9ubG9hZCA9IChlKSA9PiB7CiAgICAgICAgcmVzb2x2ZShlLnRhcmdldC5yZXN1bHQpOwogICAgICB9OwogICAgICByZWFkZXIucmVhZEFzQXJyYXlCdWZmZXIoZmlsZSk7CiAgICB9KTsKICAgIC8vIFdhaXQgZm9yIHRoZSBkYXRhIHRvIGJlIHJlYWR5LgogICAgbGV0IGZpbGVEYXRhID0geWllbGQgewogICAgICBwcm9taXNlOiBmaWxlRGF0YVByb21pc2UsCiAgICAgIHJlc3BvbnNlOiB7CiAgICAgICAgYWN0aW9uOiAnY29udGludWUnLAogICAgICB9CiAgICB9OwoKICAgIC8vIFVzZSBhIGNodW5rZWQgc2VuZGluZyB0byBhdm9pZCBtZXNzYWdlIHNpemUgbGltaXRzLiBTZWUgYi82MjExNTY2MC4KICAgIGxldCBwb3NpdGlvbiA9IDA7CiAgICB3aGlsZSAocG9zaXRpb24gPCBmaWxlRGF0YS5ieXRlTGVuZ3RoKSB7CiAgICAgIGNvbnN0IGxlbmd0aCA9IE1hdGgubWluKGZpbGVEYXRhLmJ5dGVMZW5ndGggLSBwb3NpdGlvbiwgTUFYX1BBWUxPQURfU0laRSk7CiAgICAgIGNvbnN0IGNodW5rID0gbmV3IFVpbnQ4QXJyYXkoZmlsZURhdGEsIHBvc2l0aW9uLCBsZW5ndGgpOwogICAgICBwb3NpdGlvbiArPSBsZW5ndGg7CgogICAgICBjb25zdCBiYXNlNjQgPSBidG9hKFN0cmluZy5mcm9tQ2hhckNvZGUuYXBwbHkobnVsbCwgY2h1bmspKTsKICAgICAgeWllbGQgewogICAgICAgIHJlc3BvbnNlOiB7CiAgICAgICAgICBhY3Rpb246ICdhcHBlbmQnLAogICAgICAgICAgZmlsZTogZmlsZS5uYW1lLAogICAgICAgICAgZGF0YTogYmFzZTY0LAogICAgICAgIH0sCiAgICAgIH07CiAgICAgIHBlcmNlbnQudGV4dENvbnRlbnQgPQogICAgICAgICAgYCR7TWF0aC5yb3VuZCgocG9zaXRpb24gLyBmaWxlRGF0YS5ieXRlTGVuZ3RoKSAqIDEwMCl9JSBkb25lYDsKICAgIH0KICB9CgogIC8vIEFsbCBkb25lLgogIHlpZWxkIHsKICAgIHJlc3BvbnNlOiB7CiAgICAgIGFjdGlvbjogJ2NvbXBsZXRlJywKICAgIH0KICB9Owp9CgpzY29wZS5nb29nbGUgPSBzY29wZS5nb29nbGUgfHwge307CnNjb3BlLmdvb2dsZS5jb2xhYiA9IHNjb3BlLmdvb2dsZS5jb2xhYiB8fCB7fTsKc2NvcGUuZ29vZ2xlLmNvbGFiLl9maWxlcyA9IHsKICBfdXBsb2FkRmlsZXMsCiAgX3VwbG9hZEZpbGVzQ29udGludWUsCn07Cn0pKHNlbGYpOwo=",
              "ok": true,
              "headers": [
                [
                  "content-type",
                  "application/javascript"
                ]
              ],
              "status": 200,
              "status_text": ""
            }
          },
          "base_uri": "https://localhost:8080/",
          "height": 105
        },
        "outputId": "23c85eaa-ebb6-4d23-95e8-ec8de578073d"
      },
      "cell_type": "code",
      "source": [
        "up = files.upload()"
      ],
      "execution_count": 8,
      "outputs": [
        {
          "output_type": "display_data",
          "data": {
            "text/html": [
              "\n",
              "     <input type=\"file\" id=\"files-41688865-fd0f-4fc6-b5ed-9d64bba52ff5\" name=\"files[]\" multiple disabled />\n",
              "     <output id=\"result-41688865-fd0f-4fc6-b5ed-9d64bba52ff5\">\n",
              "      Upload widget is only available when the cell has been executed in the\n",
              "      current browser session. Please rerun this cell to enable.\n",
              "      </output>\n",
              "      <script src=\"/nbextensions/google.colab/files.js\"></script> "
            ],
            "text/plain": [
              "<IPython.core.display.HTML object>"
            ]
          },
          "metadata": {
            "tags": []
          }
        },
        {
          "output_type": "stream",
          "text": [
            "Saving utils.py to utils.py\n",
            "Saving display_graph.py to display_graph.py\n"
          ],
          "name": "stdout"
        }
      ]
    },
    {
      "metadata": {
        "id": "RJuBa-f2U6A4",
        "colab_type": "code",
        "colab": {}
      },
      "cell_type": "code",
      "source": [
        "from __future__ import absolute_import\n",
        "from __future__ import division\n",
        "from __future__ import print_function\n",
        "\n",
        "import os\n",
        "import tensorflow as tf\n",
        "import numpy as np\n",
        "from PIL import Image\n",
        "import keras\n",
        "from keras.applications.inception_v3 import InceptionV3\n",
        "from keras.applications.resnet50 import ResNet50\n",
        "from keras.applications.xception import Xception\n",
        "from keras.applications.vgg16 import VGG16\n",
        "from keras.applications.vgg19 import VGG19\n",
        "from keras.applications import imagenet_utils\n",
        "from keras import backend as K\n",
        "from scipy.ndimage.filters import gaussian_filter\n",
        "from IPython.display import clear_output, HTML\n",
        "from IPython.display import display, Image\n",
        "from functools import partial\n",
        "import utils\n",
        "from importlib import reload\n",
        "reload(utils)\n",
        "from utils import *\n",
        "from IPython.core.debugger import Tracer\n",
        "from display_graph import display_graph\n",
        "import pprint\n",
        "import time\n",
        "from scipy.misc import imsave\n",
        "\n",
        "%matplotlib inline"
      ],
      "execution_count": 0,
      "outputs": []
    },
    {
      "metadata": {
        "id": "NhKP288BVD_y",
        "colab_type": "code",
        "colab": {}
      },
      "cell_type": "code",
      "source": [
        "# Output image size\n",
        "image_size = (300, 300)"
      ],
      "execution_count": 0,
      "outputs": []
    },
    {
      "metadata": {
        "id": "U5bV0Qo7V1X9",
        "colab_type": "code",
        "colab": {
          "base_uri": "https://localhost:8080/",
          "height": 317
        },
        "outputId": "12f2579c-d122-4786-f2a9-4b2c3b4bee39"
      },
      "cell_type": "code",
      "source": [
        "def random_image(size,):\n",
        "    '''Generate a random noise image and return it as np array. \n",
        "        Args:\n",
        "            size: The desired dimensions of the output image.\n",
        "            random_noise: Whether to generate a random noise \n",
        "             image or to load a picture.\n",
        "            filename: The fullpath to the image to load.\n",
        "    '''\n",
        "    width, height = size\n",
        "    # Generate a random noise image\n",
        "    # 3 is the number of channels (RGB) in the image.\n",
        "    img = np.random.random(size=(width, height, 3))\n",
        "    img_array = img * 256\n",
        "    return img_array\n",
        "\n",
        "\n",
        "def load_image(size, filename=None):\n",
        "    '''Load image from disc and return it as np array. \n",
        "        Args:\n",
        "            size: The desired dimensions of the output image.\n",
        "            filename: The fullpath to the image to load.\n",
        "    '''\n",
        "    width, height = size\n",
        "\n",
        "    if not filename:\n",
        "        raise ValueError(\n",
        "            'If not generating random noise image, image filename is required.')\n",
        "    # Load a picture\n",
        "    img = PIL.Image.open(filename)\n",
        "    img = img.resize((width, height))\n",
        "    img_array = np.asarray(img.copy())\n",
        "    return img_array\n",
        "\n",
        "# Get and displaying image\n",
        "image = random_image(size=image_size)\n",
        "show(image)"
      ],
      "execution_count": 14,
      "outputs": [
        {
          "output_type": "display_data",
          "data": {
            "image/jpeg": "[encoded data removed]",
            "text/plain": [
              "<IPython.core.display.Image object>"
            ]
          },
          "metadata": {
            "tags": []
          }
        }
      ]
    },
    {
      "metadata": {
        "id": "b4s5AAefV9ZD",
        "colab_type": "code",
        "colab": {}
      },
      "cell_type": "code",
      "source": [
        "\n",
        "graph = tf.Graph()\n",
        "config = tf.ConfigProto()\n",
        "# Uncomment this if you want to use two iPython scripts side by side,\n",
        "# and you dont want tensorflow to take up all the GPU memory on initialization\n",
        "# config.gpu_options.allow_growth=True\n",
        "\n",
        "# Interactive session is better suited for notebooks\n",
        "sess = tf.InteractiveSession(graph=graph, config=config)\n",
        "K.set_session(sess)\n",
        "\n",
        "# Keras flag - we are not training, just testing now\n",
        "K.set_learning_phase(0)"
      ],
      "execution_count": 0,
      "outputs": []
    },
    {
      "metadata": {
        "id": "yl40AW08WRur",
        "colab_type": "code",
        "colab": {
          "base_uri": "https://localhost:8080/",
          "height": 102
        },
        "outputId": "3cd01c7b-30db-440f-bbd8-b754d5f07c67"
      },
      "cell_type": "code",
      "source": [
        "def setup_model(initial_value, model_name='Inception5h'):\n",
        "    '''Load the model. Use a TF tensor as input just for fun.\n",
        "    Args: \n",
        "        initial_value: The initial value of the input tensor. Mainly used for size.\n",
        "        model_name: Whether to normalize the input image.\n",
        "    Returns:\n",
        "        Tuple of (model, # The loaded keras model\n",
        "            input_tensor, # The tensor that feeds the model\n",
        "            content_layers, # The content layers of this model as tensors\n",
        "            style_layers, # The style layers of this model as tensors\n",
        "            preprocess_func, # Preprocesses an image for the model\n",
        "            deprocess_func # Returns preprocessed image back to normal.\n",
        "    '''\n",
        "    # Prepare tensor for input image\n",
        "    image_tensor = tf.Variable(initial_value)\n",
        "\n",
        "    if model_name == 'VGG16' or model == 'VGG19':\n",
        "        # These two models share a lot, so define them together\n",
        "        if model_name == 'VGG16':\n",
        "            # VGG 16 model\n",
        "            model = VGG16(include_top=False, weights='imagenet',\n",
        "                          input_tensor=image_tensor)\n",
        "        elif model_name == 'VGG19':\n",
        "            model = VGG19(include_top=False, weights='imagenet',\n",
        "                          input_tensor=image_tensor)\n",
        "\n",
        "        # Preprocesses an image for the model\n",
        "        def preprocess_func(x):\n",
        "            x = x.copy().astype(float)\n",
        "            rank = len(x.shape)\n",
        "            if (rank == 3):\n",
        "                # Add extra batch dimension\n",
        "                x = np.expand_dims(x, axis=0)\n",
        "            x[:, :, :, 2] -= 103.939\n",
        "            x[:, :, :, 1] -= 116.779\n",
        "            x[:, :, :, 0] -= 123.68\n",
        "\n",
        "            # Flip the channels from RGB to BGR\n",
        "            x = x[:, :, :, ::-1]\n",
        "            return x\n",
        "\n",
        "        # Returns preprocessed image back to normal.\n",
        "        def deprocess_func(x):\n",
        "            x = np.asarray(x).copy()\n",
        "            rank = len(x.shape)\n",
        "            if (rank == 4):\n",
        "                # Remove extra batch dimension\n",
        "                x = np.squeeze(x, axis=0)\n",
        "\n",
        "            # Flip the channels from BGR to RGB\n",
        "            x = x[:, :, ::-1]\n",
        "\n",
        "            # Remove zero-center by mean pixel\n",
        "            x[:, :, 2] += 103.939\n",
        "            x[:, :, 1] += 116.779\n",
        "            x[:, :, 0] += 123.68\n",
        "\n",
        "            x = np.clip(x, 0, 255).astype('uint8')\n",
        "            return x\n",
        "\n",
        "        # Define the style layers\n",
        "        style_layers = [model.get_layer('block1_conv1').output,\n",
        "                        model.get_layer('block2_conv1').output,\n",
        "                        model.get_layer('block3_conv1').output,\n",
        "                        model.get_layer('block4_conv1').output,\n",
        "                        model.get_layer('block5_conv1').output]\n",
        "\n",
        "        # Define the content layers\n",
        "        content_layers = model.get_layer('block4_conv2').output\n",
        "\n",
        "    # TODO: Add other models\n",
        "\n",
        "    return model, image_tensor, content_layers, style_layers, preprocess_func, deprocess_func\n",
        "\n",
        "with graph.as_default():\n",
        "    with graph.name_scope(\"model\") as scope:\n",
        "        # Use the image size (with a batch dimension) to feed the model input.\n",
        "        # We do so that the input has size and the convolutional layers\n",
        "        # will be sized as well.\n",
        "        initial = np.expand_dims(image, axis=0).astype('float32')\n",
        "\n",
        "        # Setup the model\n",
        "        (model, input_tensor, content_layers, style_layers,\n",
        "         preprocess, deprocess) = setup_model(\n",
        "            initial_value=initial,\n",
        "            model_name='VGG16')"
      ],
      "execution_count": 16,
      "outputs": [
        {
          "output_type": "stream",
          "text": [
            "WARNING:tensorflow:From /usr/local/lib/python3.6/dist-packages/tensorflow/python/framework/op_def_library.py:263: colocate_with (from tensorflow.python.framework.ops) is deprecated and will be removed in a future version.\n",
            "Instructions for updating:\n",
            "Colocations handled automatically by placer.\n",
            "Downloading data from https://github.com/fchollet/deep-learning-models/releases/download/v0.1/vgg16_weights_tf_dim_ordering_tf_kernels_notop.h5\n",
            "58892288/58889256 [==============================] - 1s 0us/step\n"
          ],
          "name": "stdout"
        }
      ]
    },
    {
      "metadata": {
        "id": "5yJmsxKiWWpt",
        "colab_type": "code",
        "colab": {
          "base_uri": "https://localhost:8080/",
          "height": 187
        },
        "outputId": "6fa845ab-0764-4ce3-a2ab-9ab33fb5ddee"
      },
      "cell_type": "code",
      "source": [
        "# Checkout what we got\n",
        "(model, input_tensor, content_layers, style_layers,\n",
        " preprocess, deprocess)"
      ],
      "execution_count": 17,
      "outputs": [
        {
          "output_type": "execute_result",
          "data": {
            "text/plain": [
              "(<keras.engine.training.Model at 0x7f773842bb38>,\n",
              " <tf.Variable 'model/Variable:0' shape=(1, 300, 300, 3) dtype=float32_ref>,\n",
              " <tf.Tensor 'model/block4_conv2/Relu:0' shape=(1, 37, 37, 512) dtype=float32>,\n",
              " [<tf.Tensor 'model/block1_conv1/Relu:0' shape=(1, 300, 300, 64) dtype=float32>,\n",
              "  <tf.Tensor 'model/block2_conv1/Relu:0' shape=(1, 150, 150, 128) dtype=float32>,\n",
              "  <tf.Tensor 'model/block3_conv1/Relu:0' shape=(1, 75, 75, 256) dtype=float32>,\n",
              "  <tf.Tensor 'model/block4_conv1/Relu:0' shape=(1, 37, 37, 512) dtype=float32>,\n",
              "  <tf.Tensor 'model/block5_conv1/Relu:0' shape=(1, 18, 18, 512) dtype=float32>],\n",
              " <function __main__.setup_model.<locals>.preprocess_func>,\n",
              " <function __main__.setup_model.<locals>.deprocess_func>)"
            ]
          },
          "metadata": {
            "tags": []
          },
          "execution_count": 17
        }
      ]
    },
    {
      "metadata": {
        "id": "1WbxpmbgWbCJ",
        "colab_type": "code",
        "colab": {
          "base_uri": "https://localhost:8080/",
          "height": 782
        },
        "outputId": "a985d7ff-4e48-4b69-9844-15e4d2ae3c01"
      },
      "cell_type": "code",
      "source": [
        "# Summary of the model layers\n",
        "model.summary()"
      ],
      "execution_count": 18,
      "outputs": [
        {
          "output_type": "stream",
          "text": [
            "_________________________________________________________________\n",
            "Layer (type)                 Output Shape              Param #   \n",
            "=================================================================\n",
            "input_1 (InputLayer)         (None, None, None, 3)     0         \n",
            "_________________________________________________________________\n",
            "block1_conv1 (Conv2D)        (None, None, None, 64)    1792      \n",
            "_________________________________________________________________\n",
            "block1_conv2 (Conv2D)        (None, None, None, 64)    36928     \n",
            "_________________________________________________________________\n",
            "block1_pool (MaxPooling2D)   (None, None, None, 64)    0         \n",
            "_________________________________________________________________\n",
            "block2_conv1 (Conv2D)        (None, None, None, 128)   73856     \n",
            "_________________________________________________________________\n",
            "block2_conv2 (Conv2D)        (None, None, None, 128)   147584    \n",
            "_________________________________________________________________\n",
            "block2_pool (MaxPooling2D)   (None, None, None, 128)   0         \n",
            "_________________________________________________________________\n",
            "block3_conv1 (Conv2D)        (None, None, None, 256)   295168    \n",
            "_________________________________________________________________\n",
            "block3_conv2 (Conv2D)        (None, None, None, 256)   590080    \n",
            "_________________________________________________________________\n",
            "block3_conv3 (Conv2D)        (None, None, None, 256)   590080    \n",
            "_________________________________________________________________\n",
            "block3_pool (MaxPooling2D)   (None, None, None, 256)   0         \n",
            "_________________________________________________________________\n",
            "block4_conv1 (Conv2D)        (None, None, None, 512)   1180160   \n",
            "_________________________________________________________________\n",
            "block4_conv2 (Conv2D)        (None, None, None, 512)   2359808   \n",
            "_________________________________________________________________\n",
            "block4_conv3 (Conv2D)        (None, None, None, 512)   2359808   \n",
            "_________________________________________________________________\n",
            "block4_pool (MaxPooling2D)   (None, None, None, 512)   0         \n",
            "_________________________________________________________________\n",
            "block5_conv1 (Conv2D)        (None, None, None, 512)   2359808   \n",
            "_________________________________________________________________\n",
            "block5_conv2 (Conv2D)        (None, None, None, 512)   2359808   \n",
            "_________________________________________________________________\n",
            "block5_conv3 (Conv2D)        (None, None, None, 512)   2359808   \n",
            "_________________________________________________________________\n",
            "block5_pool (MaxPooling2D)   (None, None, None, 512)   0         \n",
            "=================================================================\n",
            "Total params: 14,714,688\n",
            "Trainable params: 14,714,688\n",
            "Non-trainable params: 0\n",
            "_________________________________________________________________\n"
          ],
          "name": "stdout"
        }
      ]
    },
    {
      "metadata": {
        "id": "NR8brKtDWcnU",
        "colab_type": "code",
        "colab": {
          "base_uri": "https://localhost:8080/",
          "height": 5508
        },
        "outputId": "a7d721a2-3a2d-42dc-e177-f22702e2d05f"
      },
      "cell_type": "code",
      "source": [
        "# Uncomment this to print all operations in the graph so far\n",
        "print('\\n'.join([op.name for op in graph.get_operations()]))"
      ],
      "execution_count": 19,
      "outputs": [
        {
          "output_type": "stream",
          "text": [
            "model/Variable/initial_value\n",
            "model/Variable\n",
            "model/Variable/Assign\n",
            "model/Variable/read\n",
            "model/block1_conv1/random_uniform/shape\n",
            "model/block1_conv1/random_uniform/min\n",
            "model/block1_conv1/random_uniform/max\n",
            "model/block1_conv1/random_uniform/RandomUniform\n",
            "model/block1_conv1/random_uniform/sub\n",
            "model/block1_conv1/random_uniform/mul\n",
            "model/block1_conv1/random_uniform\n",
            "model/block1_conv1/kernel\n",
            "model/block1_conv1/kernel/Assign\n",
            "model/block1_conv1/kernel/read\n",
            "model/block1_conv1/Const\n",
            "model/block1_conv1/bias\n",
            "model/block1_conv1/bias/Assign\n",
            "model/block1_conv1/bias/read\n",
            "model/block1_conv1/convolution/dilation_rate\n",
            "model/block1_conv1/convolution\n",
            "model/block1_conv1/BiasAdd\n",
            "model/block1_conv1/Relu\n",
            "model/block1_conv2/random_uniform/shape\n",
            "model/block1_conv2/random_uniform/min\n",
            "model/block1_conv2/random_uniform/max\n",
            "model/block1_conv2/random_uniform/RandomUniform\n",
            "model/block1_conv2/random_uniform/sub\n",
            "model/block1_conv2/random_uniform/mul\n",
            "model/block1_conv2/random_uniform\n",
            "model/block1_conv2/kernel\n",
            "model/block1_conv2/kernel/Assign\n",
            "model/block1_conv2/kernel/read\n",
            "model/block1_conv2/Const\n",
            "model/block1_conv2/bias\n",
            "model/block1_conv2/bias/Assign\n",
            "model/block1_conv2/bias/read\n",
            "model/block1_conv2/convolution/dilation_rate\n",
            "model/block1_conv2/convolution\n",
            "model/block1_conv2/BiasAdd\n",
            "model/block1_conv2/Relu\n",
            "model/block1_pool/MaxPool\n",
            "model/block2_conv1/random_uniform/shape\n",
            "model/block2_conv1/random_uniform/min\n",
            "model/block2_conv1/random_uniform/max\n",
            "model/block2_conv1/random_uniform/RandomUniform\n",
            "model/block2_conv1/random_uniform/sub\n",
            "model/block2_conv1/random_uniform/mul\n",
            "model/block2_conv1/random_uniform\n",
            "model/block2_conv1/kernel\n",
            "model/block2_conv1/kernel/Assign\n",
            "model/block2_conv1/kernel/read\n",
            "model/block2_conv1/Const\n",
            "model/block2_conv1/bias\n",
            "model/block2_conv1/bias/Assign\n",
            "model/block2_conv1/bias/read\n",
            "model/block2_conv1/convolution/dilation_rate\n",
            "model/block2_conv1/convolution\n",
            "model/block2_conv1/BiasAdd\n",
            "model/block2_conv1/Relu\n",
            "model/block2_conv2/random_uniform/shape\n",
            "model/block2_conv2/random_uniform/min\n",
            "model/block2_conv2/random_uniform/max\n",
            "model/block2_conv2/random_uniform/RandomUniform\n",
            "model/block2_conv2/random_uniform/sub\n",
            "model/block2_conv2/random_uniform/mul\n",
            "model/block2_conv2/random_uniform\n",
            "model/block2_conv2/kernel\n",
            "model/block2_conv2/kernel/Assign\n",
            "model/block2_conv2/kernel/read\n",
            "model/block2_conv2/Const\n",
            "model/block2_conv2/bias\n",
            "model/block2_conv2/bias/Assign\n",
            "model/block2_conv2/bias/read\n",
            "model/block2_conv2/convolution/dilation_rate\n",
            "model/block2_conv2/convolution\n",
            "model/block2_conv2/BiasAdd\n",
            "model/block2_conv2/Relu\n",
            "model/block2_pool/MaxPool\n",
            "model/block3_conv1/random_uniform/shape\n",
            "model/block3_conv1/random_uniform/min\n",
            "model/block3_conv1/random_uniform/max\n",
            "model/block3_conv1/random_uniform/RandomUniform\n",
            "model/block3_conv1/random_uniform/sub\n",
            "model/block3_conv1/random_uniform/mul\n",
            "model/block3_conv1/random_uniform\n",
            "model/block3_conv1/kernel\n",
            "model/block3_conv1/kernel/Assign\n",
            "model/block3_conv1/kernel/read\n",
            "model/block3_conv1/Const\n",
            "model/block3_conv1/bias\n",
            "model/block3_conv1/bias/Assign\n",
            "model/block3_conv1/bias/read\n",
            "model/block3_conv1/convolution/dilation_rate\n",
            "model/block3_conv1/convolution\n",
            "model/block3_conv1/BiasAdd\n",
            "model/block3_conv1/Relu\n",
            "model/block3_conv2/random_uniform/shape\n",
            "model/block3_conv2/random_uniform/min\n",
            "model/block3_conv2/random_uniform/max\n",
            "model/block3_conv2/random_uniform/RandomUniform\n",
            "model/block3_conv2/random_uniform/sub\n",
            "model/block3_conv2/random_uniform/mul\n",
            "model/block3_conv2/random_uniform\n",
            "model/block3_conv2/kernel\n",
            "model/block3_conv2/kernel/Assign\n",
            "model/block3_conv2/kernel/read\n",
            "model/block3_conv2/Const\n",
            "model/block3_conv2/bias\n",
            "model/block3_conv2/bias/Assign\n",
            "model/block3_conv2/bias/read\n",
            "model/block3_conv2/convolution/dilation_rate\n",
            "model/block3_conv2/convolution\n",
            "model/block3_conv2/BiasAdd\n",
            "model/block3_conv2/Relu\n",
            "model/block3_conv3/random_uniform/shape\n",
            "model/block3_conv3/random_uniform/min\n",
            "model/block3_conv3/random_uniform/max\n",
            "model/block3_conv3/random_uniform/RandomUniform\n",
            "model/block3_conv3/random_uniform/sub\n",
            "model/block3_conv3/random_uniform/mul\n",
            "model/block3_conv3/random_uniform\n",
            "model/block3_conv3/kernel\n",
            "model/block3_conv3/kernel/Assign\n",
            "model/block3_conv3/kernel/read\n",
            "model/block3_conv3/Const\n",
            "model/block3_conv3/bias\n",
            "model/block3_conv3/bias/Assign\n",
            "model/block3_conv3/bias/read\n",
            "model/block3_conv3/convolution/dilation_rate\n",
            "model/block3_conv3/convolution\n",
            "model/block3_conv3/BiasAdd\n",
            "model/block3_conv3/Relu\n",
            "model/block3_pool/MaxPool\n",
            "model/block4_conv1/random_uniform/shape\n",
            "model/block4_conv1/random_uniform/min\n",
            "model/block4_conv1/random_uniform/max\n",
            "model/block4_conv1/random_uniform/RandomUniform\n",
            "model/block4_conv1/random_uniform/sub\n",
            "model/block4_conv1/random_uniform/mul\n",
            "model/block4_conv1/random_uniform\n",
            "model/block4_conv1/kernel\n",
            "model/block4_conv1/kernel/Assign\n",
            "model/block4_conv1/kernel/read\n",
            "model/block4_conv1/Const\n",
            "model/block4_conv1/bias\n",
            "model/block4_conv1/bias/Assign\n",
            "model/block4_conv1/bias/read\n",
            "model/block4_conv1/convolution/dilation_rate\n",
            "model/block4_conv1/convolution\n",
            "model/block4_conv1/BiasAdd\n",
            "model/block4_conv1/Relu\n",
            "model/block4_conv2/random_uniform/shape\n",
            "model/block4_conv2/random_uniform/min\n",
            "model/block4_conv2/random_uniform/max\n",
            "model/block4_conv2/random_uniform/RandomUniform\n",
            "model/block4_conv2/random_uniform/sub\n",
            "model/block4_conv2/random_uniform/mul\n",
            "model/block4_conv2/random_uniform\n",
            "model/block4_conv2/kernel\n",
            "model/block4_conv2/kernel/Assign\n",
            "model/block4_conv2/kernel/read\n",
            "model/block4_conv2/Const\n",
            "model/block4_conv2/bias\n",
            "model/block4_conv2/bias/Assign\n",
            "model/block4_conv2/bias/read\n",
            "model/block4_conv2/convolution/dilation_rate\n",
            "model/block4_conv2/convolution\n",
            "model/block4_conv2/BiasAdd\n",
            "model/block4_conv2/Relu\n",
            "model/block4_conv3/random_uniform/shape\n",
            "model/block4_conv3/random_uniform/min\n",
            "model/block4_conv3/random_uniform/max\n",
            "model/block4_conv3/random_uniform/RandomUniform\n",
            "model/block4_conv3/random_uniform/sub\n",
            "model/block4_conv3/random_uniform/mul\n",
            "model/block4_conv3/random_uniform\n",
            "model/block4_conv3/kernel\n",
            "model/block4_conv3/kernel/Assign\n",
            "model/block4_conv3/kernel/read\n",
            "model/block4_conv3/Const\n",
            "model/block4_conv3/bias\n",
            "model/block4_conv3/bias/Assign\n",
            "model/block4_conv3/bias/read\n",
            "model/block4_conv3/convolution/dilation_rate\n",
            "model/block4_conv3/convolution\n",
            "model/block4_conv3/BiasAdd\n",
            "model/block4_conv3/Relu\n",
            "model/block4_pool/MaxPool\n",
            "model/block5_conv1/random_uniform/shape\n",
            "model/block5_conv1/random_uniform/min\n",
            "model/block5_conv1/random_uniform/max\n",
            "model/block5_conv1/random_uniform/RandomUniform\n",
            "model/block5_conv1/random_uniform/sub\n",
            "model/block5_conv1/random_uniform/mul\n",
            "model/block5_conv1/random_uniform\n",
            "model/block5_conv1/kernel\n",
            "model/block5_conv1/kernel/Assign\n",
            "model/block5_conv1/kernel/read\n",
            "model/block5_conv1/Const\n",
            "model/block5_conv1/bias\n",
            "model/block5_conv1/bias/Assign\n",
            "model/block5_conv1/bias/read\n",
            "model/block5_conv1/convolution/dilation_rate\n",
            "model/block5_conv1/convolution\n",
            "model/block5_conv1/BiasAdd\n",
            "model/block5_conv1/Relu\n",
            "model/block5_conv2/random_uniform/shape\n",
            "model/block5_conv2/random_uniform/min\n",
            "model/block5_conv2/random_uniform/max\n",
            "model/block5_conv2/random_uniform/RandomUniform\n",
            "model/block5_conv2/random_uniform/sub\n",
            "model/block5_conv2/random_uniform/mul\n",
            "model/block5_conv2/random_uniform\n",
            "model/block5_conv2/kernel\n",
            "model/block5_conv2/kernel/Assign\n",
            "model/block5_conv2/kernel/read\n",
            "model/block5_conv2/Const\n",
            "model/block5_conv2/bias\n",
            "model/block5_conv2/bias/Assign\n",
            "model/block5_conv2/bias/read\n",
            "model/block5_conv2/convolution/dilation_rate\n",
            "model/block5_conv2/convolution\n",
            "model/block5_conv2/BiasAdd\n",
            "model/block5_conv2/Relu\n",
            "model/block5_conv3/random_uniform/shape\n",
            "model/block5_conv3/random_uniform/min\n",
            "model/block5_conv3/random_uniform/max\n",
            "model/block5_conv3/random_uniform/RandomUniform\n",
            "model/block5_conv3/random_uniform/sub\n",
            "model/block5_conv3/random_uniform/mul\n",
            "model/block5_conv3/random_uniform\n",
            "model/block5_conv3/kernel\n",
            "model/block5_conv3/kernel/Assign\n",
            "model/block5_conv3/kernel/read\n",
            "model/block5_conv3/Const\n",
            "model/block5_conv3/bias\n",
            "model/block5_conv3/bias/Assign\n",
            "model/block5_conv3/bias/read\n",
            "model/block5_conv3/convolution/dilation_rate\n",
            "model/block5_conv3/convolution\n",
            "model/block5_conv3/BiasAdd\n",
            "model/block5_conv3/Relu\n",
            "model/block5_pool/MaxPool\n",
            "model/Placeholder\n",
            "model/Assign\n",
            "model/Placeholder_1\n",
            "model/Assign_1\n",
            "model/Placeholder_2\n",
            "model/Assign_2\n",
            "model/Placeholder_3\n",
            "model/Assign_3\n",
            "model/Placeholder_4\n",
            "model/Assign_4\n",
            "model/Placeholder_5\n",
            "model/Assign_5\n",
            "model/Placeholder_6\n",
            "model/Assign_6\n",
            "model/Placeholder_7\n",
            "model/Assign_7\n",
            "model/Placeholder_8\n",
            "model/Assign_8\n",
            "model/Placeholder_9\n",
            "model/Assign_9\n",
            "model/Placeholder_10\n",
            "model/Assign_10\n",
            "model/Placeholder_11\n",
            "model/Assign_11\n",
            "model/Placeholder_12\n",
            "model/Assign_12\n",
            "model/Placeholder_13\n",
            "model/Assign_13\n",
            "model/Placeholder_14\n",
            "model/Assign_14\n",
            "model/Placeholder_15\n",
            "model/Assign_15\n",
            "model/Placeholder_16\n",
            "model/Assign_16\n",
            "model/Placeholder_17\n",
            "model/Assign_17\n",
            "model/Placeholder_18\n",
            "model/Assign_18\n",
            "model/Placeholder_19\n",
            "model/Assign_19\n",
            "model/Placeholder_20\n",
            "model/Assign_20\n",
            "model/Placeholder_21\n",
            "model/Assign_21\n",
            "model/Placeholder_22\n",
            "model/Assign_22\n",
            "model/Placeholder_23\n",
            "model/Assign_23\n",
            "model/Placeholder_24\n",
            "model/Assign_24\n",
            "model/Placeholder_25\n",
            "model/Assign_25\n",
            "model/IsVariableInitialized\n",
            "model/IsVariableInitialized_1\n",
            "model/IsVariableInitialized_2\n",
            "model/IsVariableInitialized_3\n",
            "model/IsVariableInitialized_4\n",
            "model/IsVariableInitialized_5\n",
            "model/IsVariableInitialized_6\n",
            "model/IsVariableInitialized_7\n",
            "model/IsVariableInitialized_8\n",
            "model/IsVariableInitialized_9\n",
            "model/IsVariableInitialized_10\n",
            "model/IsVariableInitialized_11\n",
            "model/IsVariableInitialized_12\n",
            "model/IsVariableInitialized_13\n",
            "model/IsVariableInitialized_14\n",
            "model/IsVariableInitialized_15\n",
            "model/IsVariableInitialized_16\n",
            "model/IsVariableInitialized_17\n",
            "model/IsVariableInitialized_18\n",
            "model/IsVariableInitialized_19\n",
            "model/IsVariableInitialized_20\n",
            "model/IsVariableInitialized_21\n",
            "model/IsVariableInitialized_22\n",
            "model/IsVariableInitialized_23\n",
            "model/IsVariableInitialized_24\n",
            "model/IsVariableInitialized_25\n",
            "model/IsVariableInitialized_26\n",
            "model/init\n"
          ],
          "name": "stdout"
        }
      ]
    },
    {
      "metadata": {
        "id": "4IHL_yE1Wq1i",
        "colab_type": "code",
        "colab": {
          "base_uri": "https://localhost:8080/",
          "height": 34
        },
        "outputId": "15456c79-cef7-4c05-96b5-5fc8b08dda25"
      },
      "cell_type": "code",
      "source": [
        "!ls /tmp/nst"
      ],
      "execution_count": 20,
      "outputs": [
        {
          "output_type": "stream",
          "text": [
            "ls: cannot access '/tmp/nst': No such file or directory\n"
          ],
          "name": "stdout"
        }
      ]
    },
    {
      "metadata": {
        "id": "pm9XCjnrWsyn",
        "colab_type": "code",
        "colab": {}
      },
      "cell_type": "code",
      "source": [
        "import os\n",
        "img_dir = '/tmp/nst'\n",
        "if not os.path.exists(img_dir):\n",
        "    os.makedirs(img_dir)\n",
        "!wget --quiet -P /tmp/nst/ https://upload.wikimedia.org/wikipedia/commons/d/d7/Green_Sea_Turtle_grazing_seagrass.jpg\n",
        "!wget --quiet -P /tmp/nst/ https://upload.wikimedia.org/wikipedia/commons/0/0a/The_Great_Wave_off_Kanagawa.jpg\n",
        "!wget --quiet -P /tmp/nst/ https://upload.wikimedia.org/wikipedia/commons/b/b4/Vassily_Kandinsky%2C_1913_-_Composition_7.jpg\n",
        "!wget --quiet -P /tmp/nst/ https://upload.wikimedia.org/wikipedia/commons/0/00/Tuebingen_Neckarfront.jpg\n",
        "!wget --quiet -P /tmp/nst/ https://upload.wikimedia.org/wikipedia/commons/6/68/Pillars_of_creation_2014_HST_WFC3-UVIS_full-res_denoised.jpg\n",
        "!wget --quiet -P /tmp/nst/ https://upload.wikimedia.org/wikipedia/commons/thumb/e/ea/Van_Gogh_-_Starry_Night_-_Google_Art_Project.jpg/1024px-Van_Gogh_-_Starry_Night_-_Google_Art_Project.jpg\n",
        "!wget --quiet -P /tmp/nst/  https://www.gachd.org/wp-content/uploads/2018/07/Children-playing-tug-of-war.jpg\n",
        "!wget --quiet -P /tmp/nst/ https://3c1703fe8d.site.internapcdn.net/newman/gfx/news/hires/2018/children.jpgv\n",
        "!wget --quiet -P /tmp/nst/ https://images.unsplash.com/photo-1524840127331-f2ca773ec28f?ixlib=rb-1.2.1&ixid=eyJhcHBfaWQiOjEyMDd9&w=1000&q=80\n",
        "!wget --quiet -P /tmp/nst/ https://static.boredpanda.com/blog/wp-content/uploads/2017/02/IMG_20170114_222025_931-58a01296a1b60__880.jpg\n",
        "!wget --quiet -P /tmp/nst/ https://res.cloudinary.com/psychlopaedia/image/upload/w_1200,h_500,c_fill,g_face/q_40/remote/2016/09/89506247_children-lying-in-circle-on-grass_web.jpg \n",
        "!wget --quiet -P /tmp/nst/ https://familiesforchildren.org.uk/wp-content/uploads/2017/10/children-couple-bgedit.png"
      ],
      "execution_count": 0,
      "outputs": []
    },
    {
      "metadata": {
        "id": "t_qPYGKZWyCt",
        "colab_type": "code",
        "colab": {
          "base_uri": "https://localhost:8080/",
          "height": 204
        },
        "outputId": "27146d67-d293-49cc-b284-678f24c0ebcb"
      },
      "cell_type": "code",
      "source": [
        "!ls /tmp/nst"
      ],
      "execution_count": 22,
      "outputs": [
        {
          "output_type": "stream",
          "text": [
            " 1024px-Van_Gogh_-_Starry_Night_-_Google_Art_Project.jpg\n",
            " 89506247_children-lying-in-circle-on-grass_web.jpg\n",
            " children-couple-bgedit.png\n",
            " Children-playing-tug-of-war.jpg\n",
            " Green_Sea_Turtle_grazing_seagrass.jpg\n",
            " IMG_20170114_222025_931-58a01296a1b60__880.jpg\n",
            "'photo-1524840127331-f2ca773ec28f?ixlib=rb-1.2.1'\n",
            " Pillars_of_creation_2014_HST_WFC3-UVIS_full-res_denoised.jpg\n",
            " The_Great_Wave_off_Kanagawa.jpg\n",
            " Tuebingen_Neckarfront.jpg\n",
            " Vassily_Kandinsky,_1913_-_Composition_7.jpg\n"
          ],
          "name": "stdout"
        }
      ]
    },
    {
      "metadata": {
        "id": "2wh2DIv0Wgw9",
        "colab_type": "code",
        "colab": {
          "base_uri": "https://localhost:8080/",
          "height": 617
        },
        "outputId": "4df0e9e7-2375-4613-fa7d-696ce341d2bd"
      },
      "cell_type": "code",
      "source": [
        "# Image which will define the style\n",
        "style_image = load_image(size=image_size, filename='/tmp/nst/IMG_20170114_222025_931-58a01296a1b60__880.jpg')\n",
        "show(style_image)\n",
        "\n",
        "# Image to define the content\n",
        "content_image = load_image(size=image_size, filename='/tmp/nst/Children-playing-tug-of-war.jpg')\n",
        "show(content_image)"
      ],
      "execution_count": 23,
      "outputs": [
        {
          "output_type": "display_data",
          "data": {
            "image/jpeg": "[encoded data removed]",
            "text/plain": [
              "<IPython.core.display.Image object>"
            ]
          },
          "metadata": {
            "tags": []
          }
        },
        {
          "output_type": "display_data",
          "data": {
            "image/jpeg": "[encoded data removed]",
            "text/plain": [
              "<IPython.core.display.Image object>"
            ]
          },
          "metadata": {
            "tags": []
          }
        }
      ]
    },
    {
      "metadata": {
        "id": "ergS4T58W9PG",
        "colab_type": "code",
        "colab": {}
      },
      "cell_type": "code",
      "source": [
        "# Compute the style activations\n",
        "style_layers_computed = sess.run(\n",
        "    style_layers,\n",
        "    feed_dict={input_tensor: preprocess(style_image)})\n",
        "\n",
        "# Compute the content activations\n",
        "content_layers_computed = sess.run(\n",
        "    content_layers,\n",
        "    feed_dict={input_tensor: preprocess(np.expand_dims(content_image, 0))})"
      ],
      "execution_count": 0,
      "outputs": []
    },
    {
      "metadata": {
        "id": "8WqAOofSXIQp",
        "colab_type": "code",
        "colab": {}
      },
      "cell_type": "code",
      "source": [
        "def style_loss(current, computed):\n",
        "    '''Define the style loss between a tensor and an np array.\n",
        "    Args:\n",
        "        current: tf.Tensor. The style activations of the current image.\n",
        "        computed: np array. The style activations of the style input image.\n",
        "    '''\n",
        "    style_losses = []\n",
        "    for layer1, layer2 in zip(current, computed):\n",
        "        _, height, width, number = map(lambda i: i, layer2.shape)\n",
        "        size = height * width * number\n",
        "\n",
        "        # Compute layer1 Gram matrix\n",
        "        feats1 = tf.reshape(layer1, (-1, number))\n",
        "        layer1_gram = tf.matmul(tf.transpose(feats1), feats1) / size\n",
        "        # Compute layer2 Gram matrix\n",
        "        feats2 = tf.reshape(layer2, (-1, number))\n",
        "        layer2_gram = tf.matmul(tf.transpose(feats2), feats2) / size\n",
        "\n",
        "        dim1, dim2 = map(lambda i: i.value, layer1_gram.get_shape())\n",
        "        loss = tf.sqrt(tf.reduce_sum(\n",
        "            tf.square((layer1_gram - layer2_gram) / (number * number))))\n",
        "        style_losses.append(loss)\n",
        "    return tf.add_n(style_losses)"
      ],
      "execution_count": 0,
      "outputs": []
    },
    {
      "metadata": {
        "id": "ABjJzUBtXLWf",
        "colab_type": "code",
        "colab": {}
      },
      "cell_type": "code",
      "source": [
        "def content_loss(current, computed):\n",
        "    # Currently only for a single layer\n",
        "    _, height, width, number = computed.shape\n",
        "    size = height * width * number\n",
        "    return tf.sqrt(tf.nn.l2_loss(current - computed) / size)"
      ],
      "execution_count": 0,
      "outputs": []
    },
    {
      "metadata": {
        "id": "ZyR7_aUIXPHM",
        "colab_type": "code",
        "colab": {}
      },
      "cell_type": "code",
      "source": [
        "def total_variation_loss(image, image_shape=None):\n",
        "    if image_shape:\n",
        "        width, height, channels = image_shape\n",
        "    else:\n",
        "        # Try to get the image size from the tensor\n",
        "        dims = image.get_shape()\n",
        "        width = dims[1].value\n",
        "        height = dims[2].value\n",
        "        channels = dims[3].value\n",
        "\n",
        "    tv_x_size = width * (height - 1) * channels\n",
        "    tv_y_size = (width - 1) * height * channels\n",
        "\n",
        "    return (\n",
        "        tf.reduce_sum(tf.abs(image[:, 1:, :, :] - image[:, :-1, :, :])) +\n",
        "        tf.reduce_sum(tf.abs(image[:, :, 1:, :] - image[:, :, :-1, :]))\n",
        "    )"
      ],
      "execution_count": 0,
      "outputs": []
    },
    {
      "metadata": {
        "id": "1jPvrMTGXSag",
        "colab_type": "code",
        "colab": {}
      },
      "cell_type": "code",
      "source": [
        "def setup_gradient(input_tensor, result_tensor):\n",
        "    '''Setup the gradient of the input tensor w.t.r \n",
        "    to the result tensor.\n",
        "    Args: \n",
        "        input_tensor: The input features tensor.\n",
        "        result_tensor: The tensor that we want to maximize.\n",
        "    '''\n",
        "    # First get the result tensor mean\n",
        "    excitement_score = tf.reduce_mean(result_tensor)\n",
        "\n",
        "    # Gradients give us how to change the input (input_tensor)\n",
        "    # to increase the excitement_score.\n",
        "    # We get the first result only since the model is designed to\n",
        "    # work on batches, and we only use single image.\n",
        "    gradient = tf.gradients(excitement_score, input_tensor)[0]\n",
        "\n",
        "    # Normalize the gradient by its L2 norm.\n",
        "    # Disabled for now.\n",
        "    # gradient /= (tf.sqrt(tf.reduce_mean(tf.square(gradient)))\n",
        "    #                            + 1e-5)\n",
        "\n",
        "    return gradient, excitement_score\n",
        "\n",
        "# How much content, style and total variance loss contribute to the\n",
        "# total loss.\n",
        "content_weight = 1e3\n",
        "style_weight = 1e6\n",
        "tv_weight = 1e-2  # 1e-3\n",
        "\n",
        "# Set up the style, content, total variation, as well as total loss\n",
        "# and use them to define the gradient.\n",
        "with graph.as_default():\n",
        "    with graph.name_scope(\"style_loss\") as scope:\n",
        "        style_loss_op = style_weight * \\\n",
        "            style_loss(style_layers, style_layers_computed)\n",
        "    with graph.name_scope(\"content_loss\") as scope:\n",
        "        content_loss_op = content_weight * \\\n",
        "            content_loss(content_layers, content_layers_computed)\n",
        "    with graph.name_scope(\"tv_loss\") as scope:\n",
        "        tv_loss_op = tv_weight * total_variation_loss(input_tensor)\n",
        "    with graph.name_scope(\"loss\") as scope:\n",
        "        total_loss_op = style_loss_op + content_loss_op + tv_loss_op\n",
        "    with graph.name_scope(\"gradient\") as scope:\n",
        "        gradient_op, score_op = setup_gradient(input_tensor, total_loss_op)\n"
      ],
      "execution_count": 0,
      "outputs": []
    },
    {
      "metadata": {
        "id": "glGSPanTXVq8",
        "colab_type": "code",
        "colab": {}
      },
      "cell_type": "code",
      "source": [
        "# Uncomment this to display the whole TF Graph interactively\n",
        "# display_graph(graph.as_graph_def())"
      ],
      "execution_count": 0,
      "outputs": []
    },
    {
      "metadata": {
        "id": "htD7q8ZrXaUp",
        "colab_type": "code",
        "colab": {}
      },
      "cell_type": "code",
      "source": [
        "def get_uninitialized_variables(variables=None, session=None):\n",
        "    \"\"\"\n",
        "    Get uninitialized variables in a session as a list.\n",
        "        Args: \n",
        "            variables: list of tf.Variable. Get uninitiliazed vars \n",
        "                from these. If none, gets all uinitialized vars in session.\n",
        "            session: tf.Session to find uninitialized vars in. If none\n",
        "                uses default session.\n",
        "        Returns:\n",
        "            Uninitialized variables within `variables`.\n",
        "            If `variables` not specified, return all uninitialized variables.\n",
        "    \"\"\"\n",
        "    if not session:\n",
        "        session = tf.get_default_session()\n",
        "    if variables is None:\n",
        "        variables = tf.global_variables()\n",
        "    else:\n",
        "        variables = list(variables)\n",
        "    init_flag = session.run(\n",
        "        tf.stack([tf.is_variable_initialized(v) for v in variables]))\n",
        "    return [v for v, f in zip(variables, init_flag) if not f]\n",
        "\n",
        "\n",
        "def initialize_variables():\n",
        "    '''Initialize the internal variables the optimizer uses.\n",
        "        We could do tf.global_variables_initializer().eval() to \n",
        "        initialize all variables but this messes up the keras model.'''\n",
        "    # Get uninitialized vars and their initializers\n",
        "    uninitialized_vars = get_uninitialized_variables()\n",
        "    initializers = [var.initializer for var in uninitialized_vars]\n",
        "\n",
        "    # Print uninitialized variables\n",
        "    print('Uninitialized variables:')\n",
        "    print([initializer.name for initializer in initializers])\n",
        "\n",
        "    # Initialize the variables\n",
        "    _ = [initializer.run() for initializer in initializers]\n",
        "\n",
        "\n",
        "def init_input(show_image=False):\n",
        "    ''' Define start image in the input tensor.\n",
        "        The image we are going to start with is the content image, \n",
        "        with random petrubations (needed, otherwise TV loss converges to nan).\n",
        "    Args:\n",
        "        show_image: Whether to display the generated image.\n",
        "    '''\n",
        "    # Define random 0 to 1 image with size (batch_size, image_size, channels)\n",
        "    #  mean=0.5, stddev=.5\n",
        "    initial_random = tf.random_normal(\n",
        "        mean=1, stddev=.01, shape=(1,) + image_size + (3,))\n",
        "\n",
        "    # Use the content image\n",
        "    initial_content = preprocess(np.expand_dims(content_image, axis=0))\n",
        "\n",
        "    # Init the input tensor\n",
        "    input_tensor.initializer.run()\n",
        "    input_tensor.assign(\n",
        "        tf.clip_by_value(initial_content * initial_random, 0, 255)\n",
        "    ).eval()\n",
        "\n",
        "    # Show the input tensor\n",
        "    if show_image:\n",
        "        show(np.squeeze(input_tensor.eval()))\n",
        "\n",
        "# Helper to print the losses.\n",
        "\n",
        "\n",
        "def print_progress(i,\n",
        "                   iterations,\n",
        "                   loss_computed,\n",
        "                   style_loss_computed,\n",
        "                   content_loss_computed,\n",
        "                   tv_loss_computed):\n",
        "    print('Iteration %d/%d Content L: %g Style L: %g TV L: %g Total L: %g' % (\n",
        "        i,\n",
        "        iterations,\n",
        "        content_loss_computed,\n",
        "        style_loss_computed,\n",
        "        tv_loss_computed,\n",
        "        loss_computed\n",
        "    ))\n",
        "\n",
        "\n",
        "def run_optimization(train_step, iterations=100, print_n_times=10):\n",
        "    ''' Run the optimization for a number of iterations. \n",
        "    Args:\n",
        "        train_step: The op that gets executed every iteration.\n",
        "        iterations: How many times to run the optimization. Recommended at\n",
        "            least 500 - 1000 iterations for a good quality image. Good style\n",
        "            should be visible even after 100 iters.\n",
        "        print_n_times: Int, How many times to print the progress.\n",
        "    Return:\n",
        "        A list of losses during the optimization like so:\n",
        "        [(time elapsed, loss)]\n",
        "    '''\n",
        "    if print_n_times == 0:\n",
        "        # Dont print at all\n",
        "        print_every_n = iterations + 1\n",
        "    else:\n",
        "        print_every_n = max(iterations // print_n_times, 1)\n",
        "\n",
        "    # Keep only the image with the lowest loss\n",
        "    # (in case we converge).\n",
        "    best_loss = float('inf')\n",
        "    best = None\n",
        "\n",
        "    losses = []\n",
        "\n",
        "    # To compute total optimization time\n",
        "    start_time = time.time()\n",
        "\n",
        "    # Optimization loop\n",
        "    for i in range(iterations):\n",
        "        # Keep the input_tensor between 0 and 255\n",
        "        # (gives slightly better output, slows optimization by factor of 2)\n",
        "#         input_tensor.assign(tf.clip_by_value(input_tensor, 0, 255)).eval()\n",
        "\n",
        "        # Run the training (train_step), and get the losses\n",
        "        (_, result_image, loss_computed,\n",
        "         style_loss_computed, content_loss_computed,\n",
        "         tv_loss_computed) = sess.run(\n",
        "            [train_step, input_tensor, score_op, style_loss_op, content_loss_op,\n",
        "             tv_loss_op])\n",
        "\n",
        "        wall_time = time.time() - start_time\n",
        "\n",
        "        losses.append((wall_time, loss_computed))\n",
        "\n",
        "        # Print progress\n",
        "        if i % print_every_n == 0:\n",
        "            print_progress(i, iterations, loss_computed,\n",
        "                           style_loss_computed, content_loss_computed,\n",
        "                           tv_loss_computed)\n",
        "\n",
        "        # skip this for now.\n",
        "        # if loss_computed < best_loss:\n",
        "        #    best_loss = loss_computed\n",
        "        #    best = result_image\n",
        "\n",
        "    total_time = time.time() - start_time\n",
        "    print ('Training took {:.0f} seconds or {:.2f} s/iteration !'.format(\n",
        "        wall_time,\n",
        "        wall_time / iterations))\n",
        "\n",
        "    return losses\n",
        "\n",
        "\n",
        "def optimize(optimizer, iterations=100, new_image=True):\n",
        "    ''' Define and run the optimization.\n",
        "    Args:\n",
        "        optimizer: The optimizer to use.\n",
        "        iterations: Number of times to run optimizer.\n",
        "        new_image: Whether to start with a new image, or continue with the \n",
        "            previous one.\n",
        "    Return: A tuple: \n",
        "        A list of losses during the optimization like so: [(time elapsed, loss)]\n",
        "        The image\n",
        "    '''\n",
        "    with graph.as_default():\n",
        "        # Compute the gradients for a list of variables.\n",
        "        grads_and_vars = optimizer.compute_gradients(score_op, [input_tensor])\n",
        "        # Op that ask the optimizer to apply the gradients.\n",
        "        train_step = optimizer.apply_gradients(grads_and_vars)\n",
        "\n",
        "        initialize_variables()\n",
        "        if new_image:\n",
        "            init_input()\n",
        "        losses = run_optimization(\n",
        "            train_step, iterations=iterations, print_n_times=5)\n",
        "        result_image = input_tensor.eval()\n",
        "        result_image = np.clip(deprocess(result_image), 0, 255)\n",
        "        show(result_image)\n",
        "        return losses, result_image"
      ],
      "execution_count": 0,
      "outputs": []
    },
    {
      "metadata": {
        "id": "LDUDJWFAZpG3",
        "colab_type": "code",
        "colab": {}
      },
      "cell_type": "code",
      "source": [
        "import cv2\n"
      ],
      "execution_count": 0,
      "outputs": []
    },
    {
      "metadata": {
        "id": "apJZSuIwXiOd",
        "colab_type": "code",
        "colab": {}
      },
      "cell_type": "code",
      "source": [
        "def save_results(optimizer_name, loss=None, result_image=None):\n",
        "    ''' A helper to save the results of this optimizer run.'''\n",
        "    if result_image is not None:\n",
        "        cv2.imwrite('results/{}.jpg'.format(optimizer_name), result_image)\n",
        "    if loss is None:\n",
        "        # Load the loss\n",
        "        loss = np.loadtxt('results/' + optimizer_name + '.csv')\n",
        "    else:\n",
        "        # Save the loss\n",
        "        loss = np.asarray(loss)\n",
        "        np.savetxt('results/' + optimizer_name + '.csv', np.asarray(loss))\n",
        "    plot, = plt.plot(loss[:, 0], loss[:, 1])\n",
        "    plotHandles.append(plot)\n",
        "    labels.append(optimizer_name)"
      ],
      "execution_count": 0,
      "outputs": []
    },
    {
      "metadata": {
        "id": "R8gWWKTMXki8",
        "colab_type": "code",
        "colab": {}
      },
      "cell_type": "code",
      "source": [
        "# Turn interactive plotting off\n",
        "plt.ioff()\n",
        "# To display a legend in the plot\n",
        "figure = plt.figure(figsize=(10, 10))\n",
        "labels = []\n",
        "plotHandles = []\n",
        "# We are using a large learning rate to change the initial image sufficiently\n",
        "learning_rate = 10"
      ],
      "execution_count": 0,
      "outputs": []
    },
    {
      "metadata": {
        "id": "-kEdeBqBZoYi",
        "colab_type": "code",
        "colab": {}
      },
      "cell_type": "code",
      "source": [
        ""
      ],
      "execution_count": 0,
      "outputs": []
    },
    {
      "metadata": {
        "id": "fKXbmOPCXmkf",
        "colab_type": "code",
        "colab": {
          "base_uri": "https://localhost:8080/",
          "height": 895
        },
        "outputId": "ebf03eaa-cc59-4da4-b2c6-1641758d3c3e"
      },
      "cell_type": "code",
      "source": [
        "optimizer = tf.train.GradientDescentOptimizer(learning_rate)\n",
        "loss, result_image = optimize(optimizer)\n",
        "save_results(optimizer.get_name(), loss, result_image)"
      ],
      "execution_count": 44,
      "outputs": [
        {
          "output_type": "stream",
          "text": [
            "Uninitialized variables:\n",
            "[]\n",
            "Iteration 0/100 Content L: 106553 Style L: 4.4972e+06 TV L: 37155.8 Total L: 4.64090e+06\n",
            "Iteration 20/100 Content L: 171854 Style L: 3.18571e+06 TV L: 74530.2 Total L: 3.4321e+06\n",
            "Iteration 40/100 Content L: 171892 Style L: 1.73288e+06 TV L: 66698 Total L: 1.97147e+06\n",
            "Iteration 60/100 Content L: 172775 Style L: 2.55276e+06 TV L: 55864.5 Total L: 2.7814e+06\n",
            "Iteration 80/100 Content L: 179571 Style L: 2.14006e+06 TV L: 70272.4 Total L: 2.3899e+06\n",
            "Training took 5 seconds or 0.05 s/iteration !\n"
          ],
          "name": "stdout"
        },
        {
          "output_type": "display_data",
          "data": {
            "image/jpeg": "[encoded data removed]",
            "text/plain": [
              "<IPython.core.display.Image object>"
            ]
          },
          "metadata": {
            "tags": []
          }
        },
        {
          "output_type": "error",
          "ename": "FileNotFoundError",
          "evalue": "ignored",
          "traceback": [
            "\u001b[0;31m---------------------------------------------------------------------------\u001b[0m",
            "\u001b[0;31mFileNotFoundError\u001b[0m                         Traceback (most recent call last)",
            "\u001b[0;32m<ipython-input-44-175aee39aa4f>\u001b[0m in \u001b[0;36m<module>\u001b[0;34m()\u001b[0m\n\u001b[1;32m      1\u001b[0m \u001b[0moptimizer\u001b[0m \u001b[0;34m=\u001b[0m \u001b[0mtf\u001b[0m\u001b[0;34m.\u001b[0m\u001b[0mtrain\u001b[0m\u001b[0;34m.\u001b[0m\u001b[0mGradientDescentOptimizer\u001b[0m\u001b[0;34m(\u001b[0m\u001b[0mlearning_rate\u001b[0m\u001b[0;34m)\u001b[0m\u001b[0;34m\u001b[0m\u001b[0;34m\u001b[0m\u001b[0m\n\u001b[1;32m      2\u001b[0m \u001b[0mloss\u001b[0m\u001b[0;34m,\u001b[0m \u001b[0mresult_image\u001b[0m \u001b[0;34m=\u001b[0m \u001b[0moptimize\u001b[0m\u001b[0;34m(\u001b[0m\u001b[0moptimizer\u001b[0m\u001b[0;34m)\u001b[0m\u001b[0;34m\u001b[0m\u001b[0;34m\u001b[0m\u001b[0m\n\u001b[0;32m----> 3\u001b[0;31m \u001b[0msave_results\u001b[0m\u001b[0;34m(\u001b[0m\u001b[0moptimizer\u001b[0m\u001b[0;34m.\u001b[0m\u001b[0mget_name\u001b[0m\u001b[0;34m(\u001b[0m\u001b[0;34m)\u001b[0m\u001b[0;34m,\u001b[0m \u001b[0mloss\u001b[0m\u001b[0;34m,\u001b[0m \u001b[0mresult_image\u001b[0m\u001b[0;34m)\u001b[0m\u001b[0;34m\u001b[0m\u001b[0;34m\u001b[0m\u001b[0m\n\u001b[0m",
            "\u001b[0;32m<ipython-input-43-3bc11bd0b5aa>\u001b[0m in \u001b[0;36msave_results\u001b[0;34m(optimizer_name, loss, result_image)\u001b[0m\n\u001b[1;32m      9\u001b[0m         \u001b[0;31m# Save the loss\u001b[0m\u001b[0;34m\u001b[0m\u001b[0;34m\u001b[0m\u001b[0;34m\u001b[0m\u001b[0m\n\u001b[1;32m     10\u001b[0m         \u001b[0mloss\u001b[0m \u001b[0;34m=\u001b[0m \u001b[0mnp\u001b[0m\u001b[0;34m.\u001b[0m\u001b[0masarray\u001b[0m\u001b[0;34m(\u001b[0m\u001b[0mloss\u001b[0m\u001b[0;34m)\u001b[0m\u001b[0;34m\u001b[0m\u001b[0;34m\u001b[0m\u001b[0m\n\u001b[0;32m---> 11\u001b[0;31m         \u001b[0mnp\u001b[0m\u001b[0;34m.\u001b[0m\u001b[0msavetxt\u001b[0m\u001b[0;34m(\u001b[0m\u001b[0;34m'results/'\u001b[0m \u001b[0;34m+\u001b[0m \u001b[0moptimizer_name\u001b[0m \u001b[0;34m+\u001b[0m \u001b[0;34m'.csv'\u001b[0m\u001b[0;34m,\u001b[0m \u001b[0mnp\u001b[0m\u001b[0;34m.\u001b[0m\u001b[0masarray\u001b[0m\u001b[0;34m(\u001b[0m\u001b[0mloss\u001b[0m\u001b[0;34m)\u001b[0m\u001b[0;34m)\u001b[0m\u001b[0;34m\u001b[0m\u001b[0;34m\u001b[0m\u001b[0m\n\u001b[0m\u001b[1;32m     12\u001b[0m     \u001b[0mplot\u001b[0m\u001b[0;34m,\u001b[0m \u001b[0;34m=\u001b[0m \u001b[0mplt\u001b[0m\u001b[0;34m.\u001b[0m\u001b[0mplot\u001b[0m\u001b[0;34m(\u001b[0m\u001b[0mloss\u001b[0m\u001b[0;34m[\u001b[0m\u001b[0;34m:\u001b[0m\u001b[0;34m,\u001b[0m \u001b[0;36m0\u001b[0m\u001b[0;34m]\u001b[0m\u001b[0;34m,\u001b[0m \u001b[0mloss\u001b[0m\u001b[0;34m[\u001b[0m\u001b[0;34m:\u001b[0m\u001b[0;34m,\u001b[0m \u001b[0;36m1\u001b[0m\u001b[0;34m]\u001b[0m\u001b[0;34m)\u001b[0m\u001b[0;34m\u001b[0m\u001b[0;34m\u001b[0m\u001b[0m\n\u001b[1;32m     13\u001b[0m     \u001b[0mplotHandles\u001b[0m\u001b[0;34m.\u001b[0m\u001b[0mappend\u001b[0m\u001b[0;34m(\u001b[0m\u001b[0mplot\u001b[0m\u001b[0;34m)\u001b[0m\u001b[0;34m\u001b[0m\u001b[0;34m\u001b[0m\u001b[0m\n",
            "\u001b[0;32m/usr/local/lib/python3.6/dist-packages/numpy/lib/npyio.py\u001b[0m in \u001b[0;36msavetxt\u001b[0;34m(fname, X, fmt, delimiter, newline, header, footer, comments, encoding)\u001b[0m\n\u001b[1;32m   1357\u001b[0m     \u001b[0;32mif\u001b[0m \u001b[0m_is_string_like\u001b[0m\u001b[0;34m(\u001b[0m\u001b[0mfname\u001b[0m\u001b[0;34m)\u001b[0m\u001b[0;34m:\u001b[0m\u001b[0;34m\u001b[0m\u001b[0;34m\u001b[0m\u001b[0m\n\u001b[1;32m   1358\u001b[0m         \u001b[0;31m# datasource doesn't support creating a new file ...\u001b[0m\u001b[0;34m\u001b[0m\u001b[0;34m\u001b[0m\u001b[0;34m\u001b[0m\u001b[0m\n\u001b[0;32m-> 1359\u001b[0;31m         \u001b[0mopen\u001b[0m\u001b[0;34m(\u001b[0m\u001b[0mfname\u001b[0m\u001b[0;34m,\u001b[0m \u001b[0;34m'wt'\u001b[0m\u001b[0;34m)\u001b[0m\u001b[0;34m.\u001b[0m\u001b[0mclose\u001b[0m\u001b[0;34m(\u001b[0m\u001b[0;34m)\u001b[0m\u001b[0;34m\u001b[0m\u001b[0;34m\u001b[0m\u001b[0m\n\u001b[0m\u001b[1;32m   1360\u001b[0m         \u001b[0mfh\u001b[0m \u001b[0;34m=\u001b[0m \u001b[0mnp\u001b[0m\u001b[0;34m.\u001b[0m\u001b[0mlib\u001b[0m\u001b[0;34m.\u001b[0m\u001b[0m_datasource\u001b[0m\u001b[0;34m.\u001b[0m\u001b[0mopen\u001b[0m\u001b[0;34m(\u001b[0m\u001b[0mfname\u001b[0m\u001b[0;34m,\u001b[0m \u001b[0;34m'wt'\u001b[0m\u001b[0;34m,\u001b[0m \u001b[0mencoding\u001b[0m\u001b[0;34m=\u001b[0m\u001b[0mencoding\u001b[0m\u001b[0;34m)\u001b[0m\u001b[0;34m\u001b[0m\u001b[0;34m\u001b[0m\u001b[0m\n\u001b[1;32m   1361\u001b[0m         \u001b[0mown_fh\u001b[0m \u001b[0;34m=\u001b[0m \u001b[0;32mTrue\u001b[0m\u001b[0;34m\u001b[0m\u001b[0;34m\u001b[0m\u001b[0m\n",
            "\u001b[0;31mFileNotFoundError\u001b[0m: [Errno 2] No such file or directory: 'results/GradientDescent.csv'"
          ]
        }
      ]
    },
    {
      "metadata": {
        "id": "DKMcq0zUXovL",
        "colab_type": "code",
        "colab": {}
      },
      "cell_type": "code",
      "source": [
        ""
      ],
      "execution_count": 0,
      "outputs": []
    }
  ]
}