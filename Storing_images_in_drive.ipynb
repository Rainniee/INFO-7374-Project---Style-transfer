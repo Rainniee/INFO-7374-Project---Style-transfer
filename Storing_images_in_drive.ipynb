{
  "nbformat": 4,
  "nbformat_minor": 0,
  "metadata": {
    "colab": {
      "name": "Storing images in drive.ipynb",
      "version": "0.3.2",
      "provenance": [],
      "collapsed_sections": [],
      "include_colab_link": true
    },
    "kernelspec": {
      "name": "python3",
      "display_name": "Python 3"
    },
    "accelerator": "GPU"
  },
  "cells": [
    {
      "cell_type": "markdown",
      "metadata": {
        "id": "view-in-github",
        "colab_type": "text"
      },
      "source": [
        "<a href=\"https://colab.research.google.com/github/Adhira-Deogade/INFO-7374-Project---Style-transfer/blob/master/Storing_images_in_drive.ipynb\" target=\"_parent\"><img src=\"https://colab.research.google.com/assets/colab-badge.svg\" alt=\"Open In Colab\"/></a>"
      ]
    },
    {
      "metadata": {
        "id": "m7Z2j9cMiRPt",
        "colab_type": "code",
        "colab": {
          "base_uri": "https://localhost:8080/",
          "height": 122
        },
        "outputId": "474793a5-0f79-462d-ab2f-33bfb0a43c0c"
      },
      "cell_type": "code",
      "source": [
        "from google.colab import drive\n",
        "drive.mount('/content/gdrive')"
      ],
      "execution_count": 1,
      "outputs": [
        {
          "output_type": "stream",
          "text": [
            "Go to this URL in a browser: https://accounts.google.com/o/oauth2/auth?client_id=947318989803-6bn6qk8qdgf4n4g3pfee6491hc0brc4i.apps.googleusercontent.com&redirect_uri=urn%3Aietf%3Awg%3Aoauth%3A2.0%3Aoob&scope=email%20https%3A%2F%2Fwww.googleapis.com%2Fauth%2Fdocs.test%20https%3A%2F%2Fwww.googleapis.com%2Fauth%2Fdrive%20https%3A%2F%2Fwww.googleapis.com%2Fauth%2Fdrive.photos.readonly%20https%3A%2F%2Fwww.googleapis.com%2Fauth%2Fpeopleapi.readonly&response_type=code\n",
            "\n",
            "Enter your authorization code:\n",
            "··········\n",
            "Mounted at /content/gdrive\n"
          ],
          "name": "stdout"
        }
      ]
    },
    {
      "metadata": {
        "id": "HR8YaNSKifu3",
        "colab_type": "code",
        "colab": {
          "base_uri": "https://localhost:8080/",
          "height": 34
        },
        "outputId": "cec31d37-44fc-4dfd-98d7-fa9a4cb5cf85"
      },
      "cell_type": "code",
      "source": [
        "ls"
      ],
      "execution_count": 2,
      "outputs": [
        {
          "output_type": "stream",
          "text": [
            "\u001b[0m\u001b[01;34mgdrive\u001b[0m/  \u001b[01;34msample_data\u001b[0m/  \u001b[01;34mStyleTransfer\u001b[0m/\n"
          ],
          "name": "stdout"
        }
      ]
    },
    {
      "metadata": {
        "id": "tuXskRJzitCa",
        "colab_type": "code",
        "colab": {
          "base_uri": "https://localhost:8080/",
          "height": 34
        },
        "outputId": "6201a952-6d9e-4482-d30e-5927f8e1e3dd"
      },
      "cell_type": "code",
      "source": [
        "cd gdrive/"
      ],
      "execution_count": 3,
      "outputs": [
        {
          "output_type": "stream",
          "text": [
            "/content/gdrive\n"
          ],
          "name": "stdout"
        }
      ]
    },
    {
      "metadata": {
        "id": "T-YWiNqbiu0n",
        "colab_type": "code",
        "colab": {
          "base_uri": "https://localhost:8080/",
          "height": 34
        },
        "outputId": "2e34c1d9-0eeb-43c0-beea-874f76d5c702"
      },
      "cell_type": "code",
      "source": [
        "ls"
      ],
      "execution_count": 4,
      "outputs": [
        {
          "output_type": "stream",
          "text": [
            "\u001b[0m\u001b[01;34m'My Drive'\u001b[0m/\n"
          ],
          "name": "stdout"
        }
      ]
    },
    {
      "metadata": {
        "id": "ndkOq5hQivBX",
        "colab_type": "code",
        "colab": {
          "base_uri": "https://localhost:8080/",
          "height": 34
        },
        "outputId": "e50cdf49-8dce-4345-82aa-cb6dac57eb6c"
      },
      "cell_type": "code",
      "source": [
        "cd My\\ Drive"
      ],
      "execution_count": 5,
      "outputs": [
        {
          "output_type": "stream",
          "text": [
            "/content/gdrive/My Drive\n"
          ],
          "name": "stdout"
        }
      ]
    },
    {
      "metadata": {
        "id": "nt--Cp6tiwHz",
        "colab_type": "code",
        "colab": {
          "base_uri": "https://localhost:8080/",
          "height": 1377
        },
        "outputId": "6398e508-586e-4c1d-a448-dd36f57a4912"
      },
      "cell_type": "code",
      "source": [
        "ls"
      ],
      "execution_count": 6,
      "outputs": [
        {
          "output_type": "stream",
          "text": [
            "'Adhira Deoagde.gdoc'\n",
            "'Adhira Deoagde.pdf'\n",
            "'adhira resume ds.gdoc'\n",
            "'adhira resume ds.pdf'\n",
            "\u001b[0m\u001b[01;34m'Android Projects'\u001b[0m/\n",
            "\u001b[01;34m'Asn1 ipynb files'\u001b[0m/\n",
            "'Assginment 3 - Report (Group 3).gdoc'\n",
            "\u001b[01;34m'Assignment 4 Chatbot'\u001b[0m/\n",
            "'Assn 3 - Ad - NLP.gdoc'\n",
            " \u001b[01;34mBI\u001b[0m/\n",
            " BiomarkerdataPneumoniaCCP.xlsx\n",
            "'Book report.gslides'\n",
            " \u001b[01;34mBooks\u001b[0m/\n",
            "'BoW - Balancing results.gsheet'\n",
            "'CartApp 3.zip'\n",
            "'Case study.gslides'\n",
            " \u001b[01;34mCertificates\u001b[0m/\n",
            "\u001b[01;34m'Colab Notebooks'\u001b[0m/\n",
            "\u001b[01;34m'College R and Python'\u001b[0m/\n",
            "'Connected devices.gslides'\n",
            " Contract.pdf\n",
            " \u001b[01;34mCPT\u001b[0m/\n",
            "\u001b[01;34m'Data science for blog'\u001b[0m/\n",
            " \u001b[01;34mdatasets\u001b[0m/\n",
            " \u001b[01;34mDesktop\u001b[0m/\n",
            " \u001b[01;34mETC\u001b[0m/\n",
            "\u001b[01;34m'Exercise Files'\u001b[0m/\n",
            " \u001b[01;34mFinalExamJava\u001b[0m/\n",
            " finished_files.zip\n",
            "'Flow chart'\n",
            "'Flow chart.png'\n",
            "\u001b[01;34m'Food Cart'\u001b[0m/\n",
            "\u001b[01;34m'FoodCart Android Project'\u001b[0m/\n",
            "'Foreign Policy 2018 07.pdf'\n",
            " forestfires.csv\n",
            "'Home automation and intrusion detection with alarm.gslides'\n",
            " IMG_20180116_195338207.jpg\n",
            " IMG_20180512_205805854.jpg\n",
            "'Improvements - Part 1.gslides'\n",
            "\u001b[01;34m'INFO 7273'\u001b[0m/\n",
            "'INFO7374 (1).zip'\n",
            " INFO7374.zip\n",
            "\u001b[01;34m'IoT assn'\u001b[0m/\n",
            "'Laura RA.gdoc'\n",
            "'Laura RA v2.gdoc'\n",
            " M01_quasi_twitter.csv\n",
            "'Membership Packet .gdoc'\n",
            "'Membership Packet .pdf'\n",
            "\u001b[01;34m'Moto cam'\u001b[0m/\n",
            " MqttClientConnector.java\n",
            " MqttPubClientTestApp.java\n",
            " MqttSubClientTestApp.java\n",
            "'Neural style transfer paper.gslides'\n",
            "'new doc 2018-12-25 13.34.41-20181227215846.pdf'\n",
            "'new doc 2018-12-25 13.38.05-20181227220005.pdf'\n",
            "\u001b[01;34m'NLP example notebooks'\u001b[0m/\n",
            "\u001b[01;34m'Office material'\u001b[0m/\n",
            " \u001b[01;34mPA\u001b[0m/\n",
            "\u001b[01;34m'Pictures 2018'\u001b[0m/\n",
            " \u001b[01;34mPneumonia\u001b[0m/\n",
            "'Project outline.gdoc'\n",
            " raw_data.csv\n",
            " \u001b[01;34mResume\u001b[0m/\n",
            "'Resume (1).gdoc'\n",
            " Resume.gdoc\n",
            " \u001b[01;34mscreenshots\u001b[0m/\n",
            " \u001b[01;34mSmmarizerFiles\u001b[0m/\n",
            " Snapchat-89732165.jpg\n",
            " \u001b[01;34mSpring2019\u001b[0m/\n",
            "\u001b[01;34m'Style Transfer'\u001b[0m/\n",
            "'Style transfer experiments.gsheet'\n",
            "'Team 3 - Final Project - Style Transfer.gslides'\n",
            "'Team 3 - Knowledge graph.gdoc'\n",
            "'Team3 -proposal - Text summarization and topic modeling.gdoc'\n",
            "'Team 3 - Style transfer.gdoc'\n",
            " TELE5330_Linux_Project_001832050.pdf\n",
            " \u001b[01;34mTS\u001b[0m/\n",
            " \u001b[01;34mTScodes\u001b[0m/\n",
            "\u001b[01;34m'Upload resumes'\u001b[0m/\n",
            " \u001b[01;34mwa\u001b[0m/\n"
          ],
          "name": "stdout"
        }
      ]
    },
    {
      "metadata": {
        "id": "ldj7P2bdiwVA",
        "colab_type": "code",
        "colab": {}
      },
      "cell_type": "code",
      "source": [
        "import os\n",
        "# img_dir = '/tmp/nst'\n",
        "# if not os.path.exists(img_dir):\n",
        "#     os.makedirs(img_dir)\n",
        "!wget --quiet -P /tmp/nst/ https://upload.wikimedia.org/wikipedia/commons/d/d7/Green_Sea_Turtle_grazing_seagrass.jpg\n",
        "!wget --quiet -P /tmp/nst/ https://upload.wikimedia.org/wikipedia/commons/0/0a/The_Great_Wave_off_Kanagawa.jpg\n",
        "!wget --quiet -P /tmp/nst/ https://upload.wikimedia.org/wikipedia/commons/b/b4/Vassily_Kandinsky%2C_1913_-_Composition_7.jpg\n",
        "!wget --quiet -P /tmp/nst/ https://upload.wikimedia.org/wikipedia/commons/0/00/Tuebingen_Neckarfront.jpg\n",
        "!wget --quiet -P /tmp/nst/ https://upload.wikimedia.org/wikipedia/commons/6/68/Pillars_of_creation_2014_HST_WFC3-UVIS_full-res_denoised.jpg\n",
        "!wget --quiet -P /tmp/nst/ https://upload.wikimedia.org/wikipedia/commons/thumb/e/ea/Van_Gogh_-_Starry_Night_-_Google_Art_Project.jpg/1024px-Van_Gogh_-_Starry_Night_-_Google_Art_Project.jpg\n",
        "!wget --quiet -P /tmp/nst/ https://childrens.advil.com/sites/default/files/children22.jpg\n",
        "!wget --quiet -P /tmp/nst/ https://www.nikonlenswear.com/wp-content/uploads/2017/04/eye-care-for-children-02.jpg\n",
        "!wget --quiet -P /tmp/nst/ https://cdn.psychologytoday.com/sites/default/files/blogs/624/2011/03/57279-49334.jpg\n",
        "!wget --quiet -P /tmp/nst/ https://dailytimes.com.pk/assets/uploads/2017/11/28/Husne-Zan.jpg\n",
        "!wget --quiet -P /tmp/nst/ https://wallimpex.com/data/out/3/3d-illusion-wallpapers-4029821.jpg"
      ],
      "execution_count": 0,
      "outputs": []
    },
    {
      "metadata": {
        "id": "P-ZhMkPgj1wR",
        "colab_type": "code",
        "colab": {}
      },
      "cell_type": "code",
      "source": [
        "!cd Style\\ Transfer"
      ],
      "execution_count": 0,
      "outputs": []
    },
    {
      "metadata": {
        "id": "vWMaP35lmDof",
        "colab_type": "code",
        "colab": {
          "base_uri": "https://localhost:8080/",
          "height": 34
        },
        "outputId": "c1d18a4d-67da-4d21-ad25-ff394b9fa407"
      },
      "cell_type": "code",
      "source": [
        "!pwd"
      ],
      "execution_count": 11,
      "outputs": [
        {
          "output_type": "stream",
          "text": [
            "/content/gdrive/My Drive\n"
          ],
          "name": "stdout"
        }
      ]
    },
    {
      "metadata": {
        "id": "gqzEM4M2mD7A",
        "colab_type": "code",
        "colab": {
          "base_uri": "https://localhost:8080/",
          "height": 34
        },
        "outputId": "a62734fb-5bb2-4fa0-aadb-88f00eda55fb"
      },
      "cell_type": "code",
      "source": [
        "cd Style\\ Transfer"
      ],
      "execution_count": 16,
      "outputs": [
        {
          "output_type": "stream",
          "text": [
            "/content/gdrive/My Drive/Style Transfer\n"
          ],
          "name": "stdout"
        }
      ]
    },
    {
      "metadata": {
        "id": "SXYmGhaKo3wx",
        "colab_type": "code",
        "colab": {}
      },
      "cell_type": "code",
      "source": [
        "ls"
      ],
      "execution_count": 0,
      "outputs": []
    },
    {
      "metadata": {
        "id": "0C2Tvp0ao4Rt",
        "colab_type": "code",
        "colab": {
          "base_uri": "https://localhost:8080/",
          "height": 34
        },
        "outputId": "88f80d26-559e-4642-c532-d1b44a4559e4"
      },
      "cell_type": "code",
      "source": [
        "cd ..\n"
      ],
      "execution_count": 14,
      "outputs": [
        {
          "output_type": "stream",
          "text": [
            "/content/gdrive/My Drive\n"
          ],
          "name": "stdout"
        }
      ]
    },
    {
      "metadata": {
        "id": "TLyzOX2xo_Ta",
        "colab_type": "code",
        "colab": {}
      },
      "cell_type": "code",
      "source": [
        "ls"
      ],
      "execution_count": 0,
      "outputs": []
    },
    {
      "metadata": {
        "id": "WfRuvzAyo_rM",
        "colab_type": "code",
        "colab": {}
      },
      "cell_type": "code",
      "source": [
        "mkdir images"
      ],
      "execution_count": 0,
      "outputs": []
    },
    {
      "metadata": {
        "id": "po1kDohOpJZs",
        "colab_type": "code",
        "colab": {
          "base_uri": "https://localhost:8080/",
          "height": 34
        },
        "outputId": "79e485e2-05b2-4b3e-ddee-c936d64d9c87"
      },
      "cell_type": "code",
      "source": [
        "cd images"
      ],
      "execution_count": 19,
      "outputs": [
        {
          "output_type": "stream",
          "text": [
            "/content/gdrive/My Drive/Style Transfer/images\n"
          ],
          "name": "stdout"
        }
      ]
    },
    {
      "metadata": {
        "id": "j5KWV69TpJ-P",
        "colab_type": "code",
        "colab": {}
      },
      "cell_type": "code",
      "source": [
        "ls"
      ],
      "execution_count": 0,
      "outputs": []
    },
    {
      "metadata": {
        "id": "skFUoT4VpKQC",
        "colab_type": "code",
        "colab": {}
      },
      "cell_type": "code",
      "source": [
        "# !wget --quiet  https://upload.wikimedia.org/wikipedia/commons/d/d7/Green_Sea_Turtle_grazing_seagrass.jpg\n",
        "!wget --quiet https://upload.wikimedia.org/wikipedia/commons/0/0a/The_Great_Wave_off_Kanagawa.jpg\n",
        "!wget --quiet https://upload.wikimedia.org/wikipedia/commons/b/b4/Vassily_Kandinsky%2C_1913_-_Composition_7.jpg\n",
        "!wget --quiet  https://upload.wikimedia.org/wikipedia/commons/0/00/Tuebingen_Neckarfront.jpg\n",
        "!wget --quiet  https://upload.wikimedia.org/wikipedia/commons/6/68/Pillars_of_creation_2014_HST_WFC3-UVIS_full-res_denoised.jpg\n",
        "!wget --quiet  https://upload.wikimedia.org/wikipedia/commons/thumb/e/ea/Van_Gogh_-_Starry_Night_-_Google_Art_Project.jpg/1024px-Van_Gogh_-_Starry_Night_-_Google_Art_Project.jpg\n",
        "!wget --quiet  https://childrens.advil.com/sites/default/files/children22.jpg\n",
        "!wget --quiet  https://www.nikonlenswear.com/wp-content/uploads/2017/04/eye-care-for-children-02.jpg\n",
        "!wget --quiet  https://cdn.psychologytoday.com/sites/default/files/blogs/624/2011/03/57279-49334.jpg\n",
        "!wget --quiet  https://dailytimes.com.pk/assets/uploads/2017/11/28/Husne-Zan.jpg\n",
        "!wget --quiet  https://wallimpex.com/data/out/3/3d-illusion-wallpapers-4029821.jpg"
      ],
      "execution_count": 0,
      "outputs": []
    },
    {
      "metadata": {
        "id": "tdNbokfSpT80",
        "colab_type": "code",
        "colab": {
          "base_uri": "https://localhost:8080/",
          "height": 204
        },
        "outputId": "c7f48eae-f30a-43d6-c725-90b11a23ef6e"
      },
      "cell_type": "code",
      "source": [
        "ls"
      ],
      "execution_count": 25,
      "outputs": [
        {
          "output_type": "stream",
          "text": [
            "1024px-Van_Gogh_-_Starry_Night_-_Google_Art_Project.jpg\n",
            "3d-illusion-wallpapers-4029821.jpg\n",
            "57279-49334.jpg\n",
            "children22.jpg\n",
            "eye-care-for-children-02.jpg\n",
            "Green_Sea_Turtle_grazing_seagrass.jpg\n",
            "Husne-Zan.jpg\n",
            "Pillars_of_creation_2014_HST_WFC3-UVIS_full-res_denoised.jpg\n",
            "The_Great_Wave_off_Kanagawa.jpg\n",
            "Tuebingen_Neckarfront.jpg\n",
            "Vassily_Kandinsky,_1913_-_Composition_7.jpg\n"
          ],
          "name": "stdout"
        }
      ]
    },
    {
      "metadata": {
        "id": "strKP3VhpZYV",
        "colab_type": "code",
        "colab": {}
      },
      "cell_type": "code",
      "source": [
        "mv Vassily_Kandinsky,_1913_-_Composition_7.jpg Style1.jpg"
      ],
      "execution_count": 0,
      "outputs": []
    },
    {
      "metadata": {
        "id": "nBMOJ8yCpwfX",
        "colab_type": "code",
        "colab": {}
      },
      "cell_type": "code",
      "source": [
        "mv 3d-illusion-wallpapers-4029821.jpg Style2.jpg\n"
      ],
      "execution_count": 0,
      "outputs": []
    },
    {
      "metadata": {
        "id": "a1gypbnVqK6w",
        "colab_type": "code",
        "colab": {}
      },
      "cell_type": "code",
      "source": [
        "mv Husne-Zan.jpg Style3.jpg\n"
      ],
      "execution_count": 0,
      "outputs": []
    },
    {
      "metadata": {
        "id": "EakipbTPqTEH",
        "colab_type": "code",
        "colab": {}
      },
      "cell_type": "code",
      "source": [
        "mv 1024px-Van_Gogh_-_Starry_Night_-_Google_Art_Project.jpg Style4.jpg\n"
      ],
      "execution_count": 0,
      "outputs": []
    },
    {
      "metadata": {
        "id": "eBlh4HoZqUjq",
        "colab_type": "code",
        "colab": {}
      },
      "cell_type": "code",
      "source": [
        "mv Pillars_of_creation_2014_HST_WFC3-UVIS_full-res_denoised.jpg Style5.jpg\n"
      ],
      "execution_count": 0,
      "outputs": []
    },
    {
      "metadata": {
        "id": "_10e-RlAqV5x",
        "colab_type": "code",
        "colab": {}
      },
      "cell_type": "code",
      "source": [
        "mv 57279-49334.jpg Style6.jpg\n"
      ],
      "execution_count": 0,
      "outputs": []
    },
    {
      "metadata": {
        "id": "o31ccWLoqW4Z",
        "colab_type": "code",
        "colab": {}
      },
      "cell_type": "code",
      "source": [
        "mv The_Great_Wave_off_Kanagawa.jpg Style7.jpg"
      ],
      "execution_count": 0,
      "outputs": []
    },
    {
      "metadata": {
        "id": "S6YYM8-lqXIG",
        "colab_type": "code",
        "colab": {}
      },
      "cell_type": "code",
      "source": [
        "mv children22.jpg Content1.jpg"
      ],
      "execution_count": 0,
      "outputs": []
    },
    {
      "metadata": {
        "id": "Xa_TP2EtqggD",
        "colab_type": "code",
        "colab": {}
      },
      "cell_type": "code",
      "source": [
        "mv eye-care-for-children-02.jpg Content2.jpg"
      ],
      "execution_count": 0,
      "outputs": []
    },
    {
      "metadata": {
        "id": "ffJXCOkNqjHh",
        "colab_type": "code",
        "colab": {}
      },
      "cell_type": "code",
      "source": [
        "mv Tuebingen_Neckarfront.jpg Content3.jpg"
      ],
      "execution_count": 0,
      "outputs": []
    },
    {
      "metadata": {
        "id": "XOw-k6pJqlUW",
        "colab_type": "code",
        "colab": {}
      },
      "cell_type": "code",
      "source": [
        "mv Green_Sea_Turtle_grazing_seagrass.jpg Content4.jpg"
      ],
      "execution_count": 0,
      "outputs": []
    },
    {
      "metadata": {
        "id": "1-D2x70CqrOy",
        "colab_type": "code",
        "colab": {}
      },
      "cell_type": "code",
      "source": [
        ""
      ],
      "execution_count": 0,
      "outputs": []
    }
  ]
}